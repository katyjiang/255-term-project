{
  "nbformat": 4,
  "nbformat_minor": 0,
  "metadata": {
    "colab": {
      "name": "255_Hybrid_Movie_Recommender_System.ipynb",
      "provenance": [],
      "collapsed_sections": [
        "v0CSTr2Gezf6",
        "WG-p4Hakezf-",
        "u9Ndag2_ezf-",
        "8oGcEMqJezf_",
        "vT6-_rdZEagY",
        "4MI7uRHFezf_",
        "ZGPuPWELezf_",
        "8pn9wg3lIQVZ",
        "WwXkXIGJ25im",
        "G8pDbwklMpnc",
        "0xC1Q_N69igj",
        "MkDkZSA0C623",
        "Xla5htRmOd1z",
        "xsXFDP4DiDR9",
        "HEmfrwIiiDR9",
        "I_-SlVgUezgA",
        "2SrovCs7MTXx",
        "FcuGzExhp3_M"
      ]
    },
    "kernelspec": {
      "display_name": "Python 3",
      "language": "python",
      "name": "python3"
    },
    "language_info": {
      "codemirror_mode": {
        "name": "ipython",
        "version": 3
      },
      "file_extension": ".py",
      "mimetype": "text/x-python",
      "name": "python",
      "nbconvert_exporter": "python",
      "pygments_lexer": "ipython3",
      "version": "3.7.6"
    }
  },
  "cells": [
    {
      "cell_type": "markdown",
      "metadata": {
        "id": "FSfPT2Q3QIAB"
      },
      "source": [
        "# **Resources Importing and Loading**"
      ]
    },
    {
      "cell_type": "code",
      "metadata": {
        "colab": {
          "base_uri": "https://localhost:8080/"
        },
        "id": "A8XVGIM2c73u",
        "outputId": "a3e0ee99-06bc-4df3-bfcb-cd382cea221a"
      },
      "source": [
        "# If using Google colab, this help you access the share folder\n",
        "from google.colab import drive\n",
        "drive.mount('/content/drive')"
      ],
      "execution_count": 1,
      "outputs": [
        {
          "output_type": "stream",
          "text": [
            "Mounted at /content/drive\n"
          ],
          "name": "stdout"
        }
      ]
    },
    {
      "cell_type": "markdown",
      "metadata": {
        "id": "tjcQF-siezf7"
      },
      "source": [
        "Our dataset :\n",
        "\n",
        "https://www.kaggle.com/grouplens/movielens-20m-dataset"
      ]
    },
    {
      "cell_type": "code",
      "metadata": {
        "colab": {
          "base_uri": "https://localhost:8080/"
        },
        "id": "Jef5f-Mlezf7",
        "outputId": "78340baf-d575-4cde-874a-91eed49d3877"
      },
      "source": [
        "import pandas as pd\n",
        "import numpy as np\n",
        "!pip install surprise\n",
        "from surprise import Dataset\n",
        "from surprise import Reader\n",
        "from surprise.model_selection.split import train_test_split\n",
        "from surprise.model_selection import cross_validate, GridSearchCV, RandomizedSearchCV\n",
        "\n",
        "from surprise import KNNBasic, KNNWithMeans, KNNWithZScore\n",
        "from surprise import SVD, SVDpp, NMF\n",
        "from surprise import SlopeOne, CoClustering\n",
        "\n",
        "import matplotlib.pyplot as plt\n",
        "%matplotlib inline\n",
        "from surprise import accuracy\n",
        "\n",
        "import seaborn as sns\n",
        "from sklearn.metrics.pairwise import cosine_similarity\n",
        "from sklearn.feature_extraction.text import TfidfVectorizer\n",
        "from sklearn.metrics import pairwise_distances\n",
        "from sklearn.metrics.pairwise import linear_kernel"
      ],
      "execution_count": 2,
      "outputs": [
        {
          "output_type": "stream",
          "text": [
            "Collecting surprise\n",
            "  Downloading https://files.pythonhosted.org/packages/61/de/e5cba8682201fcf9c3719a6fdda95693468ed061945493dea2dd37c5618b/surprise-0.1-py2.py3-none-any.whl\n",
            "Collecting scikit-surprise\n",
            "\u001b[?25l  Downloading https://files.pythonhosted.org/packages/97/37/5d334adaf5ddd65da99fc65f6507e0e4599d092ba048f4302fe8775619e8/scikit-surprise-1.1.1.tar.gz (11.8MB)\n",
            "\u001b[K     |████████████████████████████████| 11.8MB 4.7MB/s \n",
            "\u001b[?25hRequirement already satisfied: joblib>=0.11 in /usr/local/lib/python3.6/dist-packages (from scikit-surprise->surprise) (0.17.0)\n",
            "Requirement already satisfied: numpy>=1.11.2 in /usr/local/lib/python3.6/dist-packages (from scikit-surprise->surprise) (1.18.5)\n",
            "Requirement already satisfied: scipy>=1.0.0 in /usr/local/lib/python3.6/dist-packages (from scikit-surprise->surprise) (1.4.1)\n",
            "Requirement already satisfied: six>=1.10.0 in /usr/local/lib/python3.6/dist-packages (from scikit-surprise->surprise) (1.15.0)\n",
            "Building wheels for collected packages: scikit-surprise\n",
            "  Building wheel for scikit-surprise (setup.py) ... \u001b[?25l\u001b[?25hdone\n",
            "  Created wheel for scikit-surprise: filename=scikit_surprise-1.1.1-cp36-cp36m-linux_x86_64.whl size=1670926 sha256=ae170ac422198a8abe0490a884f38b501de07376abd81ba09ee1e50a813de99a\n",
            "  Stored in directory: /root/.cache/pip/wheels/78/9c/3d/41b419c9d2aff5b6e2b4c0fc8d25c538202834058f9ed110d0\n",
            "Successfully built scikit-surprise\n",
            "Installing collected packages: scikit-surprise, surprise\n",
            "Successfully installed scikit-surprise-1.1.1 surprise-0.1\n"
          ],
          "name": "stdout"
        }
      ]
    },
    {
      "cell_type": "code",
      "metadata": {
        "id": "Akx1RVOgezf7"
      },
      "source": [
        "# please change the file path to your own file path.\n",
        "ratings = pd.read_csv(\"/content/drive/Shareddrives/255_Project/rating.csv\")\n",
        "movies = pd.read_csv('/content/drive/Shareddrives/255_Project/movie.csv')\n",
        "tag = pd.read_csv('/content/drive/Shareddrives/255_Project/tag.csv')\n",
        "genome_scores = pd.read_csv('/content/drive/Shareddrives/255_Project/genome_scores.csv')\n",
        "genome_tags = pd.read_csv('/content/drive/Shareddrives/255_Project/genome_tags.csv')"
      ],
      "execution_count": 3,
      "outputs": []
    },
    {
      "cell_type": "markdown",
      "metadata": {
        "id": "v0CSTr2Gezf6"
      },
      "source": [
        "# **Utilize various Algorithms  in Surprise to create a high accuracy Recommender System**"
      ]
    },
    {
      "cell_type": "markdown",
      "metadata": {
        "id": "kcTuXa4hezf7"
      },
      "source": [
        "## 1.Preprocessing data"
      ]
    },
    {
      "cell_type": "code",
      "metadata": {
        "colab": {
          "base_uri": "https://localhost:8080/",
          "height": 204
        },
        "id": "-O7los0nezf8",
        "outputId": "5bc16075-5ad0-4433-b0df-639bbfff7ca6"
      },
      "source": [
        "ratings.head()"
      ],
      "execution_count": 4,
      "outputs": [
        {
          "output_type": "execute_result",
          "data": {
            "text/html": [
              "<div>\n",
              "<style scoped>\n",
              "    .dataframe tbody tr th:only-of-type {\n",
              "        vertical-align: middle;\n",
              "    }\n",
              "\n",
              "    .dataframe tbody tr th {\n",
              "        vertical-align: top;\n",
              "    }\n",
              "\n",
              "    .dataframe thead th {\n",
              "        text-align: right;\n",
              "    }\n",
              "</style>\n",
              "<table border=\"1\" class=\"dataframe\">\n",
              "  <thead>\n",
              "    <tr style=\"text-align: right;\">\n",
              "      <th></th>\n",
              "      <th>userId</th>\n",
              "      <th>movieId</th>\n",
              "      <th>rating</th>\n",
              "      <th>timestamp</th>\n",
              "    </tr>\n",
              "  </thead>\n",
              "  <tbody>\n",
              "    <tr>\n",
              "      <th>0</th>\n",
              "      <td>1</td>\n",
              "      <td>2</td>\n",
              "      <td>3.5</td>\n",
              "      <td>2005-04-02 23:53:47</td>\n",
              "    </tr>\n",
              "    <tr>\n",
              "      <th>1</th>\n",
              "      <td>1</td>\n",
              "      <td>29</td>\n",
              "      <td>3.5</td>\n",
              "      <td>2005-04-02 23:31:16</td>\n",
              "    </tr>\n",
              "    <tr>\n",
              "      <th>2</th>\n",
              "      <td>1</td>\n",
              "      <td>32</td>\n",
              "      <td>3.5</td>\n",
              "      <td>2005-04-02 23:33:39</td>\n",
              "    </tr>\n",
              "    <tr>\n",
              "      <th>3</th>\n",
              "      <td>1</td>\n",
              "      <td>47</td>\n",
              "      <td>3.5</td>\n",
              "      <td>2005-04-02 23:32:07</td>\n",
              "    </tr>\n",
              "    <tr>\n",
              "      <th>4</th>\n",
              "      <td>1</td>\n",
              "      <td>50</td>\n",
              "      <td>3.5</td>\n",
              "      <td>2005-04-02 23:29:40</td>\n",
              "    </tr>\n",
              "  </tbody>\n",
              "</table>\n",
              "</div>"
            ],
            "text/plain": [
              "   userId  movieId  rating            timestamp\n",
              "0       1        2     3.5  2005-04-02 23:53:47\n",
              "1       1       29     3.5  2005-04-02 23:31:16\n",
              "2       1       32     3.5  2005-04-02 23:33:39\n",
              "3       1       47     3.5  2005-04-02 23:32:07\n",
              "4       1       50     3.5  2005-04-02 23:29:40"
            ]
          },
          "metadata": {
            "tags": []
          },
          "execution_count": 4
        }
      ]
    },
    {
      "cell_type": "code",
      "metadata": {
        "colab": {
          "base_uri": "https://localhost:8080/",
          "height": 419
        },
        "id": "1C7j_qpOezf9",
        "outputId": "ccc95854-711f-45cf-f008-2b7f302bd4b6"
      },
      "source": [
        "movies"
      ],
      "execution_count": 5,
      "outputs": [
        {
          "output_type": "execute_result",
          "data": {
            "text/html": [
              "<div>\n",
              "<style scoped>\n",
              "    .dataframe tbody tr th:only-of-type {\n",
              "        vertical-align: middle;\n",
              "    }\n",
              "\n",
              "    .dataframe tbody tr th {\n",
              "        vertical-align: top;\n",
              "    }\n",
              "\n",
              "    .dataframe thead th {\n",
              "        text-align: right;\n",
              "    }\n",
              "</style>\n",
              "<table border=\"1\" class=\"dataframe\">\n",
              "  <thead>\n",
              "    <tr style=\"text-align: right;\">\n",
              "      <th></th>\n",
              "      <th>movieId</th>\n",
              "      <th>title</th>\n",
              "      <th>genres</th>\n",
              "    </tr>\n",
              "  </thead>\n",
              "  <tbody>\n",
              "    <tr>\n",
              "      <th>0</th>\n",
              "      <td>1</td>\n",
              "      <td>Toy Story (1995)</td>\n",
              "      <td>Adventure|Animation|Children|Comedy|Fantasy</td>\n",
              "    </tr>\n",
              "    <tr>\n",
              "      <th>1</th>\n",
              "      <td>2</td>\n",
              "      <td>Jumanji (1995)</td>\n",
              "      <td>Adventure|Children|Fantasy</td>\n",
              "    </tr>\n",
              "    <tr>\n",
              "      <th>2</th>\n",
              "      <td>3</td>\n",
              "      <td>Grumpier Old Men (1995)</td>\n",
              "      <td>Comedy|Romance</td>\n",
              "    </tr>\n",
              "    <tr>\n",
              "      <th>3</th>\n",
              "      <td>4</td>\n",
              "      <td>Waiting to Exhale (1995)</td>\n",
              "      <td>Comedy|Drama|Romance</td>\n",
              "    </tr>\n",
              "    <tr>\n",
              "      <th>4</th>\n",
              "      <td>5</td>\n",
              "      <td>Father of the Bride Part II (1995)</td>\n",
              "      <td>Comedy</td>\n",
              "    </tr>\n",
              "    <tr>\n",
              "      <th>...</th>\n",
              "      <td>...</td>\n",
              "      <td>...</td>\n",
              "      <td>...</td>\n",
              "    </tr>\n",
              "    <tr>\n",
              "      <th>27273</th>\n",
              "      <td>131254</td>\n",
              "      <td>Kein Bund für's Leben (2007)</td>\n",
              "      <td>Comedy</td>\n",
              "    </tr>\n",
              "    <tr>\n",
              "      <th>27274</th>\n",
              "      <td>131256</td>\n",
              "      <td>Feuer, Eis &amp; Dosenbier (2002)</td>\n",
              "      <td>Comedy</td>\n",
              "    </tr>\n",
              "    <tr>\n",
              "      <th>27275</th>\n",
              "      <td>131258</td>\n",
              "      <td>The Pirates (2014)</td>\n",
              "      <td>Adventure</td>\n",
              "    </tr>\n",
              "    <tr>\n",
              "      <th>27276</th>\n",
              "      <td>131260</td>\n",
              "      <td>Rentun Ruusu (2001)</td>\n",
              "      <td>(no genres listed)</td>\n",
              "    </tr>\n",
              "    <tr>\n",
              "      <th>27277</th>\n",
              "      <td>131262</td>\n",
              "      <td>Innocence (2014)</td>\n",
              "      <td>Adventure|Fantasy|Horror</td>\n",
              "    </tr>\n",
              "  </tbody>\n",
              "</table>\n",
              "<p>27278 rows × 3 columns</p>\n",
              "</div>"
            ],
            "text/plain": [
              "       movieId  ...                                       genres\n",
              "0            1  ...  Adventure|Animation|Children|Comedy|Fantasy\n",
              "1            2  ...                   Adventure|Children|Fantasy\n",
              "2            3  ...                               Comedy|Romance\n",
              "3            4  ...                         Comedy|Drama|Romance\n",
              "4            5  ...                                       Comedy\n",
              "...        ...  ...                                          ...\n",
              "27273   131254  ...                                       Comedy\n",
              "27274   131256  ...                                       Comedy\n",
              "27275   131258  ...                                    Adventure\n",
              "27276   131260  ...                           (no genres listed)\n",
              "27277   131262  ...                     Adventure|Fantasy|Horror\n",
              "\n",
              "[27278 rows x 3 columns]"
            ]
          },
          "metadata": {
            "tags": []
          },
          "execution_count": 5
        }
      ]
    },
    {
      "cell_type": "code",
      "metadata": {
        "id": "TfWm2B_3ezf9"
      },
      "source": [
        "ratings = ratings.drop(['timestamp'],axis=1)\n",
        "ratings.drop_duplicates(subset =[\"userId\",'movieId'], keep = False, inplace = True)\n",
        "ratings.dropna(subset = [\"userId\"], inplace=True)\n",
        "ratings.dropna(subset = [\"movieId\"], inplace=True)"
      ],
      "execution_count": 6,
      "outputs": []
    },
    {
      "cell_type": "code",
      "metadata": {
        "colab": {
          "base_uri": "https://localhost:8080/",
          "height": 419
        },
        "id": "CC5hTTTFezf9",
        "outputId": "81e71ce6-6859-4d05-9f12-99c2bdddd81c"
      },
      "source": [
        "ratings"
      ],
      "execution_count": 7,
      "outputs": [
        {
          "output_type": "execute_result",
          "data": {
            "text/html": [
              "<div>\n",
              "<style scoped>\n",
              "    .dataframe tbody tr th:only-of-type {\n",
              "        vertical-align: middle;\n",
              "    }\n",
              "\n",
              "    .dataframe tbody tr th {\n",
              "        vertical-align: top;\n",
              "    }\n",
              "\n",
              "    .dataframe thead th {\n",
              "        text-align: right;\n",
              "    }\n",
              "</style>\n",
              "<table border=\"1\" class=\"dataframe\">\n",
              "  <thead>\n",
              "    <tr style=\"text-align: right;\">\n",
              "      <th></th>\n",
              "      <th>userId</th>\n",
              "      <th>movieId</th>\n",
              "      <th>rating</th>\n",
              "    </tr>\n",
              "  </thead>\n",
              "  <tbody>\n",
              "    <tr>\n",
              "      <th>0</th>\n",
              "      <td>1</td>\n",
              "      <td>2</td>\n",
              "      <td>3.5</td>\n",
              "    </tr>\n",
              "    <tr>\n",
              "      <th>1</th>\n",
              "      <td>1</td>\n",
              "      <td>29</td>\n",
              "      <td>3.5</td>\n",
              "    </tr>\n",
              "    <tr>\n",
              "      <th>2</th>\n",
              "      <td>1</td>\n",
              "      <td>32</td>\n",
              "      <td>3.5</td>\n",
              "    </tr>\n",
              "    <tr>\n",
              "      <th>3</th>\n",
              "      <td>1</td>\n",
              "      <td>47</td>\n",
              "      <td>3.5</td>\n",
              "    </tr>\n",
              "    <tr>\n",
              "      <th>4</th>\n",
              "      <td>1</td>\n",
              "      <td>50</td>\n",
              "      <td>3.5</td>\n",
              "    </tr>\n",
              "    <tr>\n",
              "      <th>...</th>\n",
              "      <td>...</td>\n",
              "      <td>...</td>\n",
              "      <td>...</td>\n",
              "    </tr>\n",
              "    <tr>\n",
              "      <th>20000258</th>\n",
              "      <td>138493</td>\n",
              "      <td>68954</td>\n",
              "      <td>4.5</td>\n",
              "    </tr>\n",
              "    <tr>\n",
              "      <th>20000259</th>\n",
              "      <td>138493</td>\n",
              "      <td>69526</td>\n",
              "      <td>4.5</td>\n",
              "    </tr>\n",
              "    <tr>\n",
              "      <th>20000260</th>\n",
              "      <td>138493</td>\n",
              "      <td>69644</td>\n",
              "      <td>3.0</td>\n",
              "    </tr>\n",
              "    <tr>\n",
              "      <th>20000261</th>\n",
              "      <td>138493</td>\n",
              "      <td>70286</td>\n",
              "      <td>5.0</td>\n",
              "    </tr>\n",
              "    <tr>\n",
              "      <th>20000262</th>\n",
              "      <td>138493</td>\n",
              "      <td>71619</td>\n",
              "      <td>2.5</td>\n",
              "    </tr>\n",
              "  </tbody>\n",
              "</table>\n",
              "<p>20000263 rows × 3 columns</p>\n",
              "</div>"
            ],
            "text/plain": [
              "          userId  movieId  rating\n",
              "0              1        2     3.5\n",
              "1              1       29     3.5\n",
              "2              1       32     3.5\n",
              "3              1       47     3.5\n",
              "4              1       50     3.5\n",
              "...          ...      ...     ...\n",
              "20000258  138493    68954     4.5\n",
              "20000259  138493    69526     4.5\n",
              "20000260  138493    69644     3.0\n",
              "20000261  138493    70286     5.0\n",
              "20000262  138493    71619     2.5\n",
              "\n",
              "[20000263 rows x 3 columns]"
            ]
          },
          "metadata": {
            "tags": []
          },
          "execution_count": 7
        }
      ]
    },
    {
      "cell_type": "code",
      "metadata": {
        "id": "rtYa9dJ1ezf-"
      },
      "source": [
        "reader = Reader(rating_scale=(1,5))  #invoke reader instance of surprise library"
      ],
      "execution_count": 8,
      "outputs": []
    },
    {
      "cell_type": "code",
      "metadata": {
        "id": "S_Nqi2Whezf-"
      },
      "source": [
        "# split the dataset into small pieces\n",
        "n = 5000  #chunk row size\n",
        "list_train = [ratings[i:i+n] for i in range(0,ratings.shape[0],n)]\n",
        "#[i.shape for i in list_train]"
      ],
      "execution_count": 9,
      "outputs": []
    },
    {
      "cell_type": "markdown",
      "metadata": {
        "id": "_77pLGNQezf-"
      },
      "source": [
        "## 2.Selection of model\n",
        "* use cross-validation to get the overview of RMSE for different models \n",
        "\n",
        "* Randomly pick one batch of data for testing\n"
      ]
    },
    {
      "cell_type": "code",
      "metadata": {
        "id": "rUfmOT1Lezf-"
      },
      "source": [
        "kk = Dataset.load_from_df(list_train[10],reader)"
      ],
      "execution_count": 10,
      "outputs": []
    },
    {
      "cell_type": "markdown",
      "metadata": {
        "id": "WG-p4Hakezf-"
      },
      "source": [
        "#### We are going to evaluate following algorithms:\n",
        "\n",
        "1.k-NN Based Algorithms\n",
        "\n",
        "    KNNBasic, KNNWithMeans and KNNWithZScore\n",
        "\n",
        "2.Matrix Factorization Based Algorithms\n",
        "\n",
        "    SVD, SVDpp and NMF\n",
        "\n",
        "3.Other Collaborative Filtering Algorithms\n",
        "\n",
        "    SlopeOne, CoClustering\n",
        "\n",
        "Cross Validation: 5-Fold\n",
        "\n",
        "Optimization Metric: RMSE\n",
        "\n",
        "Multithreading: 5 Threads"
      ]
    },
    {
      "cell_type": "markdown",
      "metadata": {
        "id": "cjHFpDwKezf-"
      },
      "source": [
        "### k-NN Based Algorithms"
      ]
    },
    {
      "cell_type": "code",
      "metadata": {
        "id": "_xSjltOsezf-"
      },
      "source": [
        "knnbasic_cv = cross_validate(KNNBasic(), kk, cv=5, n_jobs=5, verbose=False)\n",
        "knnmeans_cv = cross_validate(KNNWithMeans(), kk, cv=5, n_jobs=5, verbose=False)\n",
        "knnz_cv = cross_validate(KNNWithZScore(), kk, cv=5, n_jobs=5, verbose=False)"
      ],
      "execution_count": null,
      "outputs": []
    },
    {
      "cell_type": "markdown",
      "metadata": {
        "id": "25TbEpuCezf-"
      },
      "source": [
        "### Matrix Factorization Based Algorithms"
      ]
    },
    {
      "cell_type": "code",
      "metadata": {
        "id": "FrKP_Huiezf-"
      },
      "source": [
        "svd_cv = cross_validate(SVD(), kk, cv=5, n_jobs=5, verbose=False)\n",
        "svdpp_cv = cross_validate(SVDpp(), kk, cv=5, n_jobs=5, verbose=False)\n",
        "nmf_cv = cross_validate(NMF(), kk, cv=5, n_jobs=5, verbose=False)"
      ],
      "execution_count": null,
      "outputs": []
    },
    {
      "cell_type": "markdown",
      "metadata": {
        "id": "kjwIBXbqezf-"
      },
      "source": [
        "### Other Collaborative Filtering Algorithms"
      ]
    },
    {
      "cell_type": "code",
      "metadata": {
        "id": "vk10WVIiezf-"
      },
      "source": [
        "slope_cv = cross_validate(SlopeOne(), kk, cv=5, n_jobs=5, verbose=False)\n",
        "coclus_cv = cross_validate(CoClustering(), kk, cv=5, n_jobs=5, verbose=False)"
      ],
      "execution_count": null,
      "outputs": []
    },
    {
      "cell_type": "code",
      "metadata": {
        "colab": {
          "base_uri": "https://localhost:8080/"
        },
        "id": "EUonbRECezf-",
        "outputId": "b8cda90d-bb75-472f-9748-721f10e3492c"
      },
      "source": [
        "# print out RMSE for all the model and find out which has the smallest RMSE\n",
        "print('Algorithm\\t RMSE')\n",
        "print()\n",
        "print('KNN Basic', '\\t', round(knnbasic_cv['test_rmse'].mean(), 4))\n",
        "print('KNN Means', '\\t', round(knnmeans_cv['test_rmse'].mean(), 4))\n",
        "print('KNN ZScore', '\\t', round(knnz_cv['test_rmse'].mean(), 4))\n",
        "print()\n",
        "print('SVD', '\\t\\t', round(svd_cv['test_rmse'].mean(), 4))\n",
        "print('SVDpp', '\\t\\t', round(svdpp_cv['test_rmse'].mean(), 4))\n",
        "print('NMF', '\\t\\t', round(nmf_cv['test_rmse'].mean(), 4))\n",
        "print()\n",
        "print('SlopeOne', '\\t', round(slope_cv['test_rmse'].mean(), 4))\n",
        "print('CoClustering', '\\t', round(coclus_cv['test_rmse'].mean(), 4))\n",
        "print()"
      ],
      "execution_count": null,
      "outputs": [
        {
          "output_type": "stream",
          "text": [
            "Algorithm\t RMSE\n",
            "\n",
            "KNN Basic \t 1.2191\n",
            "KNN Means \t 1.1264\n",
            "KNN ZScore \t 1.1327\n",
            "\n",
            "SVD \t\t 0.9618\n",
            "SVDpp \t\t 0.9697\n",
            "NMF \t\t 1.1949\n",
            "\n",
            "SlopeOne \t 1.1422\n",
            "CoClustering \t 1.1662\n",
            "\n"
          ],
          "name": "stdout"
        }
      ]
    },
    {
      "cell_type": "code",
      "metadata": {
        "colab": {
          "base_uri": "https://localhost:8080/",
          "height": 357
        },
        "id": "-DpVD-_f0b0q",
        "outputId": "3c18bb21-b79f-4be4-99db-c1a88afc6133"
      },
      "source": [
        "# Comparison of all algorithms on RMSE\n",
        "x_algo = ['KNN Basic', 'KNN Means', 'KNN ZScore', 'SVD', 'SVDpp', 'NMF', 'SlopeOne', 'CoClustering']\n",
        "all_algos_cv = [knnbasic_cv, knnmeans_cv, knnz_cv, svd_cv, svdpp_cv, nmf_cv, slope_cv, coclus_cv]\n",
        "\n",
        "rmse_cv = [round(res['test_rmse'].mean(), 4) for res in all_algos_cv]\n",
        "\n",
        "plt.figure(figsize=(20,5))\n",
        "\n",
        "plt.title('Comparison of Algorithms on RMSE', loc='center', fontsize=15)\n",
        "plt.plot(x_algo, rmse_cv, label='RMSE', color='darkgreen', marker='o')\n",
        "plt.xlabel('Algorithms', fontsize=15)\n",
        "plt.ylabel('RMSE Value', fontsize=15)\n",
        "plt.legend()\n",
        "plt.grid(ls='dashed')\n",
        "\n",
        "\n",
        "plt.show()"
      ],
      "execution_count": null,
      "outputs": [
        {
          "output_type": "display_data",
          "data": {
            "image/png": "[encoded data removed]",
            "text/plain": [
              "<Figure size 1440x360 with 1 Axes>"
            ]
          },
          "metadata": {
            "tags": [],
            "needs_background": "light"
          }
        }
      ]
    },
    {
      "cell_type": "markdown",
      "metadata": {
        "id": "u9Ndag2_ezf-"
      },
      "source": [
        "###  I'm going to top 2 models SVD and SVDpp as my candidates for the following steps.\n",
        "\n",
        "* **To compare with our item-item based algorithm, we also implement item-based CF for KNNBasic**"
      ]
    },
    {
      "cell_type": "markdown",
      "metadata": {
        "id": "MEq8rOISezf_"
      },
      "source": [
        "## 3.Tuning Hyperparameter\n",
        "* Now I want to find out the best combination of parameters to achive higher accuracy (lower RMSE) "
      ]
    },
    {
      "cell_type": "markdown",
      "metadata": {
        "id": "fmvTiNMHezf_"
      },
      "source": [
        "### SVD"
      ]
    },
    {
      "cell_type": "code",
      "metadata": {
        "id": "lRJPbiz8ezf_"
      },
      "source": [
        "param_grid = {'n_factors':[100,150,200],'n_epochs':[10,20,25,30],'lr_all':[0.01,0.02,0.05],'reg_all':[0.02,0.1,0.2]}\n",
        "gs = GridSearchCV(SVD, param_grid, measures=['rmse'], cv=3)"
      ],
      "execution_count": 13,
      "outputs": []
    },
    {
      "cell_type": "code",
      "metadata": {
        "colab": {
          "base_uri": "https://localhost:8080/"
        },
        "id": "qsAfJDpEezf_",
        "outputId": "2de536a0-5eb4-4621-bfd2-ce314a3d8cac"
      },
      "source": [
        "gs.fit(kk)\n",
        "svd_params = gs.best_params['rmse']\n",
        "svd_params"
      ],
      "execution_count": 17,
      "outputs": [
        {
          "output_type": "execute_result",
          "data": {
            "text/plain": [
              "{'lr_all': 0.01, 'n_epochs': 20, 'n_factors': 100, 'reg_all': 0.1}"
            ]
          },
          "metadata": {
            "tags": []
          },
          "execution_count": 17
        }
      ]
    },
    {
      "cell_type": "code",
      "metadata": {
        "id": "4EeoVMTXezf_"
      },
      "source": [
        "svdtuned = gs.best_estimator['rmse']"
      ],
      "execution_count": 21,
      "outputs": []
    },
    {
      "cell_type": "code",
      "metadata": {
        "colab": {
          "base_uri": "https://localhost:8080/"
        },
        "id": "81PsJxpfezf_",
        "outputId": "0b9bf683-163e-4386-da06-a1bd2c396dcb"
      },
      "source": [
        "cross_validate(svdtuned, kk, measures=['RMSE'], cv=5,n_jobs=5, verbose=True);"
      ],
      "execution_count": null,
      "outputs": [
        {
          "output_type": "stream",
          "text": [
            "Evaluating RMSE of algorithm SVD on 5 split(s).\n",
            "\n",
            "                  Fold 1  Fold 2  Fold 3  Fold 4  Fold 5  Mean    Std     \n",
            "RMSE (testset)    0.9702  0.9430  0.9652  0.9436  0.9741  0.9592  0.0133  \n",
            "Fit time          1.02    1.14    0.93    0.64    0.52    0.85    0.23    \n",
            "Test time         0.03    0.01    0.01    0.01    0.01    0.01    0.01    \n"
          ],
          "name": "stdout"
        }
      ]
    },
    {
      "cell_type": "markdown",
      "metadata": {
        "id": "8oGcEMqJezf_"
      },
      "source": [
        "### SVDpp"
      ]
    },
    {
      "cell_type": "code",
      "metadata": {
        "id": "ulbcvs1xezf_"
      },
      "source": [
        "pptuned = gs.best_estimator['rmse']"
      ],
      "execution_count": null,
      "outputs": []
    },
    {
      "cell_type": "code",
      "metadata": {
        "id": "vCXk9K_qezf_",
        "colab": {
          "base_uri": "https://localhost:8080/"
        },
        "outputId": "6ef7af5e-ddaf-4a25-ced0-e3d74c700a5c"
      },
      "source": [
        "cross_validate(pptuned, kk, measures=['RMSE'], cv=5,n_jobs=5, verbose=True);"
      ],
      "execution_count": null,
      "outputs": [
        {
          "output_type": "stream",
          "text": [
            "Evaluating RMSE of algorithm SVD on 5 split(s).\n",
            "\n",
            "                  Fold 1  Fold 2  Fold 3  Fold 4  Fold 5  Mean    Std     \n",
            "RMSE (testset)    0.9794  0.9558  0.9238  0.9575  0.9579  0.9548  0.0178  \n",
            "Fit time          0.79    0.78    0.76    0.61    0.26    0.64    0.20    \n",
            "Test time         0.02    0.03    0.01    0.01    0.01    0.02    0.01    \n"
          ],
          "name": "stdout"
        }
      ]
    },
    {
      "cell_type": "markdown",
      "metadata": {
        "id": "vT6-_rdZEagY"
      },
      "source": [
        "### KNNBasic (item-based)"
      ]
    },
    {
      "cell_type": "code",
      "metadata": {
        "id": "9OBlcAwC8Sly"
      },
      "source": [
        "param_grid = {'k': [5, 10, 20, 50],\n",
        "              'sim_options': {'name': ['pearson', 'cosine','pearson_baseline'],\n",
        "                              'min_support': [1, 5, 10],   #the minimum number of common items needed between users to consider them for similarity. For the item-based approach, this corresponds to the minimum number of common users for two items.\n",
        "                              'user_based': [False]\n",
        "                             }\n",
        "              }\n",
        "gs_knn = GridSearchCV(KNNBasic, param_grid, measures=['rmse'], cv=3) "
      ],
      "execution_count": null,
      "outputs": []
    },
    {
      "cell_type": "code",
      "metadata": {
        "id": "Zm9_HMnO8Sly"
      },
      "source": [
        "gs_knn.fit(kk)"
      ],
      "execution_count": null,
      "outputs": []
    },
    {
      "cell_type": "code",
      "metadata": {
        "id": "S2q_32jckTlQ",
        "outputId": "3857aa55-477c-471b-ba70-470d3bfaf5ae"
      },
      "source": [
        "print(gs_knn.best_params['rmse'])"
      ],
      "execution_count": null,
      "outputs": [
        {
          "output_type": "stream",
          "text": [
            "{'k': 50, 'sim_options': {'name': 'pearson_baseline', 'min_support': 1, 'user_based': False}}\n"
          ],
          "name": "stdout"
        }
      ]
    },
    {
      "cell_type": "code",
      "metadata": {
        "id": "rDjjB9NgEhYY"
      },
      "source": [
        "knntuned = gs_knn.best_estimator['rmse']"
      ],
      "execution_count": null,
      "outputs": []
    },
    {
      "cell_type": "markdown",
      "metadata": {
        "id": "4MI7uRHFezf_"
      },
      "source": [
        "## 4.Training and predicting"
      ]
    },
    {
      "cell_type": "markdown",
      "metadata": {
        "id": "ZGPuPWELezf_"
      },
      "source": [
        "### SVD\n",
        "**We use all the data (2 million) to fit, so it takes extremly long time.**\n"
      ]
    },
    {
      "cell_type": "code",
      "metadata": {
        "id": "F3UofWpjezf_"
      },
      "source": [
        "for i in list_train:\n",
        "    svdtuned.fit(Dataset.load_from_df(i,reader).build_full_trainset())"
      ],
      "execution_count": 23,
      "outputs": []
    },
    {
      "cell_type": "code",
      "metadata": {
        "id": "Dtgj3xVjezf_"
      },
      "source": [
        "def get_recommend_top_10_movies(user_id,df,movie):\n",
        "    # movies that user already watched\n",
        "    watched_m = df[df['userId']==user_id]\n",
        "    \n",
        "    # movies that user didn't watched\n",
        "    rec_m = pd.merge(watched_m, movie['movieId'], how='outer', indicator=True)\n",
        "    rec_m = rec_m.loc[rec_m._merge == 'right_only', ['movieId']]\n",
        "    pred = []\n",
        "    for ind in rec_m.index:\n",
        "        rating = svdtuned.predict(uid=user_id,iid=rec_m['movieId'][ind])\n",
        "        pred.append(rating[3])\n",
        "    rec_m['pred_rating']=pred\n",
        "    rec_m = rec_m.sort_values(by='pred_rating', ascending=False)\n",
        "    rec_m =rec_m[rec_m['pred_rating']>=4]\n",
        "    rec_m = rec_m.head(10)\n",
        "    final_recommend = pd.merge(rec_m,movie,how = 'inner')\n",
        "    #rec_IDs=final_recommend['movieId'].tolist()\n",
        "    #print(rec_IDs)\n",
        "    final_recommend = final_recommend.drop(['movieId','pred_rating'],axis=1)\n",
        "    print(\"You may like these movies : \") \n",
        "    return final_recommend\n"
      ],
      "execution_count": 24,
      "outputs": []
    },
    {
      "cell_type": "code",
      "metadata": {
        "colab": {
          "base_uri": "https://localhost:8080/",
          "height": 376
        },
        "id": "K7T6fkbXezf_",
        "outputId": "72ee7435-2774-471a-bba1-49580b94df1b"
      },
      "source": [
        "get_recommend_top_10_movies(88,ratings,movies)"
      ],
      "execution_count": 25,
      "outputs": [
        {
          "output_type": "stream",
          "text": [
            "You may like these movies : \n"
          ],
          "name": "stdout"
        },
        {
          "output_type": "execute_result",
          "data": {
            "text/html": [
              "<div>\n",
              "<style scoped>\n",
              "    .dataframe tbody tr th:only-of-type {\n",
              "        vertical-align: middle;\n",
              "    }\n",
              "\n",
              "    .dataframe tbody tr th {\n",
              "        vertical-align: top;\n",
              "    }\n",
              "\n",
              "    .dataframe thead th {\n",
              "        text-align: right;\n",
              "    }\n",
              "</style>\n",
              "<table border=\"1\" class=\"dataframe\">\n",
              "  <thead>\n",
              "    <tr style=\"text-align: right;\">\n",
              "      <th></th>\n",
              "      <th>title</th>\n",
              "      <th>genres</th>\n",
              "    </tr>\n",
              "  </thead>\n",
              "  <tbody>\n",
              "    <tr>\n",
              "      <th>0</th>\n",
              "      <td>Cat's Eye (1985)</td>\n",
              "      <td>Horror</td>\n",
              "    </tr>\n",
              "    <tr>\n",
              "      <th>1</th>\n",
              "      <td>Darjeeling Limited, The (2007)</td>\n",
              "      <td>Adventure|Comedy|Drama</td>\n",
              "    </tr>\n",
              "    <tr>\n",
              "      <th>2</th>\n",
              "      <td>You've Got Mail (1998)</td>\n",
              "      <td>Comedy|Romance</td>\n",
              "    </tr>\n",
              "    <tr>\n",
              "      <th>3</th>\n",
              "      <td>All About My Mother (Todo sobre mi madre) (1999)</td>\n",
              "      <td>Drama</td>\n",
              "    </tr>\n",
              "    <tr>\n",
              "      <th>4</th>\n",
              "      <td>Girl, Interrupted (1999)</td>\n",
              "      <td>Drama</td>\n",
              "    </tr>\n",
              "    <tr>\n",
              "      <th>5</th>\n",
              "      <td>American History X (1998)</td>\n",
              "      <td>Crime|Drama</td>\n",
              "    </tr>\n",
              "    <tr>\n",
              "      <th>6</th>\n",
              "      <td>Jules and Jim (Jules et Jim) (1961)</td>\n",
              "      <td>Drama|Romance</td>\n",
              "    </tr>\n",
              "    <tr>\n",
              "      <th>7</th>\n",
              "      <td>Kung Fu Panda (2008)</td>\n",
              "      <td>Action|Animation|Children|Comedy|IMAX</td>\n",
              "    </tr>\n",
              "    <tr>\n",
              "      <th>8</th>\n",
              "      <td>Lives of Others, The (Das leben der Anderen) (...</td>\n",
              "      <td>Drama|Romance|Thriller</td>\n",
              "    </tr>\n",
              "    <tr>\n",
              "      <th>9</th>\n",
              "      <td>War of the Roses, The (1989)</td>\n",
              "      <td>Comedy|Drama</td>\n",
              "    </tr>\n",
              "  </tbody>\n",
              "</table>\n",
              "</div>"
            ],
            "text/plain": [
              "                                               title                                 genres\n",
              "0                                   Cat's Eye (1985)                                 Horror\n",
              "1                     Darjeeling Limited, The (2007)                 Adventure|Comedy|Drama\n",
              "2                             You've Got Mail (1998)                         Comedy|Romance\n",
              "3   All About My Mother (Todo sobre mi madre) (1999)                                  Drama\n",
              "4                           Girl, Interrupted (1999)                                  Drama\n",
              "5                          American History X (1998)                            Crime|Drama\n",
              "6                Jules and Jim (Jules et Jim) (1961)                          Drama|Romance\n",
              "7                               Kung Fu Panda (2008)  Action|Animation|Children|Comedy|IMAX\n",
              "8  Lives of Others, The (Das leben der Anderen) (...                 Drama|Romance|Thriller\n",
              "9                       War of the Roses, The (1989)                           Comedy|Drama"
            ]
          },
          "metadata": {
            "tags": []
          },
          "execution_count": 25
        }
      ]
    },
    {
      "cell_type": "markdown",
      "metadata": {
        "id": "0TSsrDp_ezf_"
      },
      "source": [
        "### SVDpp\n",
        "* Since the accuracy of SVDpp has not been greatly improved, and due to insufficient memory, we decided not to implement the algorithm.\n",
        "\n",
        "\n",
        "\n",
        "```\n",
        "for i in list_train:\n",
        "    pptuned.fit(Dataset.load_from_df(i,reader).build_full_trainset())\n",
        "    \n",
        "def get_recommend_top_3_movies_svdpp(user_id,df,movie):\n",
        "    # movies that user already watched\n",
        "    watched_m = df[df['userId']==user_id]\n",
        "    \n",
        "    # movies that user didn't watched\n",
        "    rec_m = pd.merge(watched_m, movie['movieId'], how='outer', indicator=True)\n",
        "    rec_m = rec_m.loc[rec_m._merge == 'right_only', ['movieId']]\n",
        "    \n",
        "    # predicting ratings for user's unwatched movies\n",
        "    pred = []\n",
        "    for ind in rec_m.index:\n",
        "        rating = pptuned.predict(uid=user_id,iid=rec_m['movieId'][ind])\n",
        "        pred.append(rating[3])\n",
        "    rec_m['rating']=pred\n",
        "    \n",
        "    # find out the top 3 high score movies\n",
        "    rec_m = rec_m.sort_values(by='rating', ascending=False)\n",
        "    #print(rec_m)\n",
        "    rec_m = rec_m.head(10)\n",
        "    \n",
        "    # print out recommend movie list\n",
        "    final_recommend = pd.merge(rec_m,movie,how = 'inner')\n",
        "    return final_recommend\n",
        "```\n",
        "\n",
        "    "
      ]
    },
    {
      "cell_type": "markdown",
      "metadata": {
        "id": "8pn9wg3lIQVZ"
      },
      "source": [
        "### KNNBasic item-based"
      ]
    },
    {
      "cell_type": "code",
      "metadata": {
        "id": "Ghtu95SpkTlP"
      },
      "source": [
        "ratings_df = ratings[:100000]\n",
        "data=Dataset.load_from_df(ratings_df,reader)\n",
        "knntrainset = data.build_full_trainset()"
      ],
      "execution_count": null,
      "outputs": []
    },
    {
      "cell_type": "code",
      "metadata": {
        "id": "CT0IfFTTJ6Fh"
      },
      "source": [
        "# Build an algorithm, and train it. Follow methodology provided previously\n",
        "knn_algo = KNNBasic(k = 50, sim_options= {'name': 'cosine', 'min_support': 1, 'user_based': False}, min_k =15)\n",
        "knn_algo.fit(knntrainset)\n"
      ],
      "execution_count": null,
      "outputs": []
    },
    {
      "cell_type": "code",
      "metadata": {
        "id": "-N9OLPyTafZH"
      },
      "source": [
        "knnbasic_pred = knn_algo.test(testset)"
      ],
      "execution_count": null,
      "outputs": []
    },
    {
      "cell_type": "code",
      "metadata": {
        "id": "Nj5GB77P8Slz"
      },
      "source": [
        "from collections import defaultdict\n",
        "\n",
        "def getMovieRecommendations(topN=10):\n",
        "    top_recs = defaultdict(list)\n",
        "    for uid, iid, true_r, est, _ in knn_pred: \n",
        "        top_recs[uid].append((iid, est))\n",
        "     \n",
        "    for uid, user_ratings in top_recs.items():\n",
        "        user_ratings.sort(key = lambda x: x[1], reverse = True)\n",
        "        top_recs[uid] = user_ratings[:topN]\n",
        "     \n",
        "    return top_recs "
      ],
      "execution_count": null,
      "outputs": []
    },
    {
      "cell_type": "code",
      "metadata": {
        "id": "NUOSPoFe8Slz"
      },
      "source": [
        "user_id = (ratings['userId'])\n",
        "user_id = list(set(user_id))\n",
        "user_dict = {}\n",
        "for i in range(len(user_id)):\n",
        "    user_dict[user_id[i]] = user_id[i]\n",
        "\n",
        "movie_dict = {}\n",
        "for i in range(len(movies)):\n",
        "    movie_dict[movies.iloc[i].movieId] = movies.iloc[i].title"
      ],
      "execution_count": null,
      "outputs": []
    },
    {
      "cell_type": "code",
      "metadata": {
        "id": "-4Bx5PTW8Slz"
      },
      "source": [
        "def getMovieName(movie_id):\n",
        "    if movie_id not in movie_dict:\n",
        "        return movie_id\n",
        "    m = movie_dict[movie_id]\n",
        "    return m"
      ],
      "execution_count": null,
      "outputs": []
    },
    {
      "cell_type": "code",
      "metadata": {
        "id": "ApWKxsjL8Slz"
      },
      "source": [
        "def getMovieRecommendationsForUser(userId, recommendations):\n",
        "    if userId not in user_dict:\n",
        "        print(\"User id is not present\")\n",
        "        return\n",
        "    u_id = user_dict[userId]\n",
        "    recommended_movies = recommendations[u_id]\n",
        "    movie_list = []\n",
        "    for movie in recommended_movies:\n",
        "        movie_list.append((getMovieName(movie[0]),movie[1]))\n",
        "    return movie_list   "
      ],
      "execution_count": null,
      "outputs": []
    },
    {
      "cell_type": "code",
      "metadata": {
        "id": "OllpFSR7kTlQ",
        "outputId": "a25b21c3-31fa-4dbd-eea2-721d43ecf9ca"
      },
      "source": [
        "getMovieRecommendationsForUser(6,recommendations)"
      ],
      "execution_count": null,
      "outputs": [
        {
          "output_type": "execute_result",
          "data": {
            "text/plain": [
              "[('Tango Lesson, The (1997)', 4.112349346172709),\n",
              " ('White Balloon, The (Badkonake sefid) (1995)', 4.111111111111111),\n",
              " ('Millennium Actress (Sennen joyû) (2001)', 4.06659509636127),\n",
              " ('Fluke (1995)', 4.050705712387137),\n",
              " ('Dangerous Lives of Altar Boys, The (2002)', 4.003000327875838),\n",
              " ('Wrong Man, The (1956)', 4.002676743766904),\n",
              " ('Perez Family, The (1995)', 4.000147789590558),\n",
              " ('Journey of August King, The (1995)', 4.0),\n",
              " ('Hud (1963)', 3.961676668386315),\n",
              " ('Creature Comforts (1989)', 3.9483534834227667)]"
            ]
          },
          "metadata": {
            "tags": []
          },
          "execution_count": 41
        }
      ]
    },
    {
      "cell_type": "markdown",
      "metadata": {
        "id": "WwXkXIGJ25im"
      },
      "source": [
        "# **Item-Item Algorithm Implementation**\n"
      ]
    },
    {
      "cell_type": "markdown",
      "metadata": {
        "id": "G8pDbwklMpnc"
      },
      "source": [
        "## 1. Data Preprocessing"
      ]
    },
    {
      "cell_type": "code",
      "metadata": {
        "id": "Jr4njbLUvei7",
        "colab": {
          "base_uri": "https://localhost:8080/",
          "height": 204
        },
        "outputId": "a97e0008-117b-4b13-eeff-5cbbffe5a348"
      },
      "source": [
        "items_df = pd.merge(ratings, movies, on = \"movieId\")\n",
        "items_df.head()"
      ],
      "execution_count": null,
      "outputs": [
        {
          "output_type": "execute_result",
          "data": {
            "text/html": [
              "<div>\n",
              "<style scoped>\n",
              "    .dataframe tbody tr th:only-of-type {\n",
              "        vertical-align: middle;\n",
              "    }\n",
              "\n",
              "    .dataframe tbody tr th {\n",
              "        vertical-align: top;\n",
              "    }\n",
              "\n",
              "    .dataframe thead th {\n",
              "        text-align: right;\n",
              "    }\n",
              "</style>\n",
              "<table border=\"1\" class=\"dataframe\">\n",
              "  <thead>\n",
              "    <tr style=\"text-align: right;\">\n",
              "      <th></th>\n",
              "      <th>userId</th>\n",
              "      <th>movieId</th>\n",
              "      <th>rating</th>\n",
              "      <th>title</th>\n",
              "      <th>genres</th>\n",
              "    </tr>\n",
              "  </thead>\n",
              "  <tbody>\n",
              "    <tr>\n",
              "      <th>0</th>\n",
              "      <td>136595</td>\n",
              "      <td>474</td>\n",
              "      <td>3.0</td>\n",
              "      <td>In the Line of Fire (1993)</td>\n",
              "      <td>Action|Thriller</td>\n",
              "    </tr>\n",
              "    <tr>\n",
              "      <th>1</th>\n",
              "      <td>88606</td>\n",
              "      <td>474</td>\n",
              "      <td>4.0</td>\n",
              "      <td>In the Line of Fire (1993)</td>\n",
              "      <td>Action|Thriller</td>\n",
              "    </tr>\n",
              "    <tr>\n",
              "      <th>2</th>\n",
              "      <td>90751</td>\n",
              "      <td>474</td>\n",
              "      <td>4.0</td>\n",
              "      <td>In the Line of Fire (1993)</td>\n",
              "      <td>Action|Thriller</td>\n",
              "    </tr>\n",
              "    <tr>\n",
              "      <th>3</th>\n",
              "      <td>109712</td>\n",
              "      <td>474</td>\n",
              "      <td>4.0</td>\n",
              "      <td>In the Line of Fire (1993)</td>\n",
              "      <td>Action|Thriller</td>\n",
              "    </tr>\n",
              "    <tr>\n",
              "      <th>4</th>\n",
              "      <td>125393</td>\n",
              "      <td>474</td>\n",
              "      <td>3.0</td>\n",
              "      <td>In the Line of Fire (1993)</td>\n",
              "      <td>Action|Thriller</td>\n",
              "    </tr>\n",
              "  </tbody>\n",
              "</table>\n",
              "</div>"
            ],
            "text/plain": [
              "   userId  movieId  rating                       title           genres\n",
              "0  136595      474     3.0  In the Line of Fire (1993)  Action|Thriller\n",
              "1   88606      474     4.0  In the Line of Fire (1993)  Action|Thriller\n",
              "2   90751      474     4.0  In the Line of Fire (1993)  Action|Thriller\n",
              "3  109712      474     4.0  In the Line of Fire (1993)  Action|Thriller\n",
              "4  125393      474     3.0  In the Line of Fire (1993)  Action|Thriller"
            ]
          },
          "metadata": {
            "tags": []
          },
          "execution_count": 12
        }
      ]
    },
    {
      "cell_type": "code",
      "metadata": {
        "id": "Xvzsxn8ovei8"
      },
      "source": [
        "p1 = items_df[:9000000].pivot_table(index = 'movieId', columns = 'userId', values = 'rating')\n",
        "p2 = items_df[9000000:18000000].pivot_table(index = 'movieId', columns = 'userId', values = 'rating')\n",
        "dfs = [p1, p2]\n",
        "item_item_matrix = pd.concat(dfs, axis=1)\n",
        "item_item_matrix.fillna( 0, inplace = True )\n",
        "item_item_cs = cosine_similarity(item_item_matrix)\n",
        "items_df = items_df.astype({\"rating\": np.float32})\n",
        "item_item_cs_df = pd.DataFrame(item_item_cs)\n",
        "item_item_cs_df.round(5)\n",
        "movie_ids = item_item_matrix.index.tolist()\n",
        "item_item_cs_df.set_index(keys = [movie_ids], inplace = True)\n",
        "item_item_cs_df.columns = movie_ids"
      ],
      "execution_count": null,
      "outputs": []
    },
    {
      "cell_type": "markdown",
      "metadata": {
        "id": "0xC1Q_N69igj"
      },
      "source": [
        "## 2.Algorithm Implementation"
      ]
    },
    {
      "cell_type": "code",
      "metadata": {
        "id": "JWDCzng0vei8"
      },
      "source": [
        "def items_similarity(movie_id_list):\n",
        "    #given movie name, find its similiar movies\n",
        "    similiar_id_list = [] # empty list of tuples\n",
        "    check_duplicate = []\n",
        "    for i in movie_id_list:\n",
        "        temp = item_item_cs_df.loc[i].sort_values(ascending = False)\n",
        "        for m, n in zip(temp.index, temp.values): \n",
        "            if (0.99 > n > 0.6):\n",
        "                if (m not in movie_id_list and m not in check_duplicate): \n",
        "                    similiar_id_list.append((m,n))\n",
        "                    check_duplicate.append(m)\n",
        "    return similiar_id_list"
      ],
      "execution_count": null,
      "outputs": []
    },
    {
      "cell_type": "code",
      "metadata": {
        "id": "Zfbfy-ZKvei8"
      },
      "source": [
        "def prediction(user_id, similiar_movie_id_list):\n",
        "    recommendation = []\n",
        "    for i in similiar_movie_id_list:\n",
        "        temp = item_item_cs_df.loc[i[0]].sort_values(ascending = False)\n",
        "        temp = temp[1:]\n",
        "        ref = []\n",
        "        for m, n in zip(temp.index, temp.values):\n",
        "            if (0.99 > n > 0.5):\n",
        "                ref.append((m,n))\n",
        "        score = 0\n",
        "        total_sim = 0\n",
        "        final_result = 0\n",
        "        for p in range(len(ref)):\n",
        "            a = items_df[(items_df['userId'] == user_id) & (items_df['movieId'] == ref[p][0])]['rating']\n",
        "            if(a.size > 0 ):\n",
        "                temp_score = a.values[0] * ref[p][1]\n",
        "                score += temp_score\n",
        "                total_sim += ref[p][1]\n",
        "        final_result = score / total_sim\n",
        "        if (final_result > 3.5):\n",
        "            recommendation.append(i)\n",
        "    return recommendation"
      ],
      "execution_count": null,
      "outputs": []
    },
    {
      "cell_type": "code",
      "metadata": {
        "id": "9xnswYEbvei8"
      },
      "source": [
        "def movie_recommend_item_item(user_id):\n",
        "    #recommend movies that user hasn't watched\n",
        "    recommended_movies = []\n",
        "    user_top_movie_name = []\n",
        "    watched_movie = items_df[items_df['userId'] == user_id]\n",
        "    top_rated_watched_movie = watched_movie[watched_movie['rating'].isin([5, 4.5])]\n",
        "    top_movie_id_list = top_rated_watched_movie['movieId'].tolist()\n",
        "    for j in top_movie_id_list:\n",
        "        m_name = movies[movies['movieId'] == j]['title'].tolist()\n",
        "        user_top_movie_name.append(m_name)\n",
        "    print(\"Top movies that rated by the user: \", user_top_movie_name)\n",
        "    if not top_movie_id_list:\n",
        "        print(\"User ID is not in the database. \\n\")\n",
        "    similiar_movie_id_list = items_similarity(top_movie_id_list)\n",
        "    if not similiar_movie_id_list:\n",
        "        print(\"Cannot find similar movies based on your history. \\n\")\n",
        "    final_list = prediction(user_id, similiar_movie_id_list)\n",
        "    for k in final_list:\n",
        "        movie_name = movies[movies['movieId'] == k[0]]['title'].tolist()\n",
        "        recommended_movies.append(movie_name)\n",
        "    return recommended_movies"
      ],
      "execution_count": null,
      "outputs": []
    },
    {
      "cell_type": "markdown",
      "metadata": {
        "id": "MkDkZSA0C623"
      },
      "source": [
        "## 3.Prediction"
      ]
    },
    {
      "cell_type": "code",
      "metadata": {
        "id": "C1kg2n-e5wxd",
        "outputId": "52c0ccd4-3468-413b-9ffa-df20c4c8200b"
      },
      "source": [
        "user_id = 1\n",
        "m_list = movie_recommend_item_item(user_id)\n",
        "print(\"Recommendation: \\n\", m_list)"
      ],
      "execution_count": null,
      "outputs": [
        {
          "output_type": "stream",
          "text": [
            "Top movies that rated by the user:  [['Star Wars: Episode V - The Empire Strikes Back (1980)'], ['Raiders of the Lost Ark (Indiana Jones and the Raiders of the Lost Ark) (1981)'], ['Lord of the Rings: The Fellowship of the Ring, The (2001)'], ['Lord of the Rings: The Two Towers, The (2002)'], ['Lord of the Rings: The Return of the King, The (2003)'], ['Freaks (1932)'], ['Spider-Man 2 (2004)']]\n",
            "Recommendation: \n",
            " [['Star Wars: Episode IV - A New Hope (1977)'], ['Star Wars: Episode VI - Return of the Jedi (1983)'], ['Indiana Jones and the Last Crusade (1989)'], ['Terminator, The (1984)'], ['Back to the Future (1985)'], ['Matrix, The (1999)'], ['Aliens (1986)'], ['Alien (1979)'], ['Star Wars: Episode I - The Phantom Menace (1999)'], ['E.T. the Extra-Terrestrial (1982)'], ['Die Hard (1988)'], ['Princess Bride, The (1987)'], ['Shrek (2001)'], ['Pirates of the Caribbean: The Curse of the Black Pearl (2003)'], ['Spider-Man (2002)'], ['Fight Club (1999)'], ['Gladiator (2000)'], ['X2: X-Men United (2003)']]\n"
          ],
          "name": "stdout"
        }
      ]
    },
    {
      "cell_type": "code",
      "metadata": {
        "id": "sjUI4Axd5wxd",
        "outputId": "2b445e07-f5fa-421f-ba64-aab4ca7c98b2"
      },
      "source": [
        "user_id = 44\n",
        "m_list = movie_recommend_item_item(user_id)\n",
        "print(\"Recommendation: \\n\", m_list)"
      ],
      "execution_count": null,
      "outputs": [
        {
          "output_type": "stream",
          "text": [
            "Top movies that rated by the user:  [['Monty Python and the Holy Grail (1975)'], ['Raiders of the Lost Ark (Indiana Jones and the Raiders of the Lost Ark) (1981)'], ['Good, the Bad and the Ugly, The (Buono, il brutto, il cattivo, Il) (1966)'], ['Lord of the Rings: The Fellowship of the Ring, The (2001)'], ['Harry Potter and the Chamber of Secrets (2002)'], ['Godfather, The (1972)'], [\"It's a Wonderful Life (1946)\"], ['Wallace & Gromit: The Best of Aardman Animation (1996)'], ['Beautiful Mind, A (2001)'], ['Rain Man (1988)'], ['Cinema Paradiso (Nuovo cinema Paradiso) (1989)'], ['Return to Snowy River (a.k.a. The Man From Snowy River II) (1988)'], ['Return of a Man Called Horse, The (1976)']]\n",
            "Recommendation: \n",
            " [[\"Monty Python's Life of Brian (1979)\"], ['Indiana Jones and the Last Crusade (1989)'], ['Star Wars: Episode V - The Empire Strikes Back (1980)'], ['Star Wars: Episode IV - A New Hope (1977)'], ['Star Wars: Episode VI - Return of the Jedi (1983)'], ['Back to the Future (1985)'], ['Terminator, The (1984)'], ['Die Hard (1988)'], ['Matrix, The (1999)'], ['Princess Bride, The (1987)'], ['Lord of the Rings: The Two Towers, The (2002)'], ['Lord of the Rings: The Return of the King, The (2003)'], ['Shrek (2001)'], ['Pirates of the Caribbean: The Curse of the Black Pearl (2003)'], ['Spider-Man (2002)'], ['Fight Club (1999)'], ['Gladiator (2000)'], [\"Harry Potter and the Sorcerer's Stone (a.k.a. Harry Potter and the Philosopher's Stone) (2001)\"], ['Harry Potter and the Prisoner of Azkaban (2004)'], ['Godfather: Part II, The (1974)']]\n"
          ],
          "name": "stdout"
        }
      ]
    },
    {
      "cell_type": "markdown",
      "metadata": {
        "id": "Xla5htRmOd1z"
      },
      "source": [
        "# **Content-based Algorithm Implementation**"
      ]
    },
    {
      "cell_type": "markdown",
      "metadata": {
        "id": "Bqrz5_LCiDR7"
      },
      "source": [
        "## Display data"
      ]
    },
    {
      "cell_type": "code",
      "metadata": {
        "id": "7b2KxTnriDR7",
        "outputId": "41194823-8257-4568-86a5-99c9445703f0"
      },
      "source": [
        "tag['userId']"
      ],
      "execution_count": null,
      "outputs": [
        {
          "output_type": "execute_result",
          "data": {
            "text/plain": [
              "0             18\n",
              "1             65\n",
              "2             65\n",
              "3             65\n",
              "4             65\n",
              "           ...  \n",
              "465559    138446\n",
              "465560    138446\n",
              "465561    138446\n",
              "465562    138446\n",
              "465563    138472\n",
              "Name: userId, Length: 465564, dtype: int64"
            ]
          },
          "metadata": {
            "tags": []
          },
          "execution_count": 118
        }
      ]
    },
    {
      "cell_type": "code",
      "metadata": {
        "id": "frirJHY1iDR8",
        "outputId": "36426457-a4eb-4800-ba51-a5954396205f"
      },
      "source": [
        "genome_tags"
      ],
      "execution_count": null,
      "outputs": [
        {
          "output_type": "execute_result",
          "data": {
            "text/html": [
              "<div>\n",
              "<style scoped>\n",
              "    .dataframe tbody tr th:only-of-type {\n",
              "        vertical-align: middle;\n",
              "    }\n",
              "\n",
              "    .dataframe tbody tr th {\n",
              "        vertical-align: top;\n",
              "    }\n",
              "\n",
              "    .dataframe thead th {\n",
              "        text-align: right;\n",
              "    }\n",
              "</style>\n",
              "<table border=\"1\" class=\"dataframe\">\n",
              "  <thead>\n",
              "    <tr style=\"text-align: right;\">\n",
              "      <th></th>\n",
              "      <th>tagId</th>\n",
              "      <th>tag</th>\n",
              "    </tr>\n",
              "  </thead>\n",
              "  <tbody>\n",
              "    <tr>\n",
              "      <th>0</th>\n",
              "      <td>1</td>\n",
              "      <td>007</td>\n",
              "    </tr>\n",
              "    <tr>\n",
              "      <th>1</th>\n",
              "      <td>2</td>\n",
              "      <td>007 (series)</td>\n",
              "    </tr>\n",
              "    <tr>\n",
              "      <th>2</th>\n",
              "      <td>3</td>\n",
              "      <td>18th century</td>\n",
              "    </tr>\n",
              "    <tr>\n",
              "      <th>3</th>\n",
              "      <td>4</td>\n",
              "      <td>1920s</td>\n",
              "    </tr>\n",
              "    <tr>\n",
              "      <th>4</th>\n",
              "      <td>5</td>\n",
              "      <td>1930s</td>\n",
              "    </tr>\n",
              "    <tr>\n",
              "      <th>...</th>\n",
              "      <td>...</td>\n",
              "      <td>...</td>\n",
              "    </tr>\n",
              "    <tr>\n",
              "      <th>1123</th>\n",
              "      <td>1124</td>\n",
              "      <td>writing</td>\n",
              "    </tr>\n",
              "    <tr>\n",
              "      <th>1124</th>\n",
              "      <td>1125</td>\n",
              "      <td>wuxia</td>\n",
              "    </tr>\n",
              "    <tr>\n",
              "      <th>1125</th>\n",
              "      <td>1126</td>\n",
              "      <td>wwii</td>\n",
              "    </tr>\n",
              "    <tr>\n",
              "      <th>1126</th>\n",
              "      <td>1127</td>\n",
              "      <td>zombie</td>\n",
              "    </tr>\n",
              "    <tr>\n",
              "      <th>1127</th>\n",
              "      <td>1128</td>\n",
              "      <td>zombies</td>\n",
              "    </tr>\n",
              "  </tbody>\n",
              "</table>\n",
              "<p>1128 rows × 2 columns</p>\n",
              "</div>"
            ],
            "text/plain": [
              "      tagId           tag\n",
              "0         1           007\n",
              "1         2  007 (series)\n",
              "2         3  18th century\n",
              "3         4         1920s\n",
              "4         5         1930s\n",
              "...     ...           ...\n",
              "1123   1124       writing\n",
              "1124   1125         wuxia\n",
              "1125   1126          wwii\n",
              "1126   1127        zombie\n",
              "1127   1128       zombies\n",
              "\n",
              "[1128 rows x 2 columns]"
            ]
          },
          "metadata": {
            "tags": []
          },
          "execution_count": 119
        }
      ]
    },
    {
      "cell_type": "code",
      "metadata": {
        "id": "9RtcBqzWiDR8",
        "outputId": "6efd868f-b127-49de-dfb1-538d8f431136"
      },
      "source": [
        "ratings"
      ],
      "execution_count": null,
      "outputs": [
        {
          "output_type": "execute_result",
          "data": {
            "text/html": [
              "<div>\n",
              "<style scoped>\n",
              "    .dataframe tbody tr th:only-of-type {\n",
              "        vertical-align: middle;\n",
              "    }\n",
              "\n",
              "    .dataframe tbody tr th {\n",
              "        vertical-align: top;\n",
              "    }\n",
              "\n",
              "    .dataframe thead th {\n",
              "        text-align: right;\n",
              "    }\n",
              "</style>\n",
              "<table border=\"1\" class=\"dataframe\">\n",
              "  <thead>\n",
              "    <tr style=\"text-align: right;\">\n",
              "      <th></th>\n",
              "      <th>userId</th>\n",
              "      <th>movieId</th>\n",
              "      <th>rating</th>\n",
              "      <th>timestamp</th>\n",
              "    </tr>\n",
              "  </thead>\n",
              "  <tbody>\n",
              "    <tr>\n",
              "      <th>0</th>\n",
              "      <td>1</td>\n",
              "      <td>2</td>\n",
              "      <td>3.5</td>\n",
              "      <td>2005-04-02 23:53:47</td>\n",
              "    </tr>\n",
              "    <tr>\n",
              "      <th>1</th>\n",
              "      <td>1</td>\n",
              "      <td>29</td>\n",
              "      <td>3.5</td>\n",
              "      <td>2005-04-02 23:31:16</td>\n",
              "    </tr>\n",
              "    <tr>\n",
              "      <th>2</th>\n",
              "      <td>1</td>\n",
              "      <td>32</td>\n",
              "      <td>3.5</td>\n",
              "      <td>2005-04-02 23:33:39</td>\n",
              "    </tr>\n",
              "    <tr>\n",
              "      <th>3</th>\n",
              "      <td>1</td>\n",
              "      <td>47</td>\n",
              "      <td>3.5</td>\n",
              "      <td>2005-04-02 23:32:07</td>\n",
              "    </tr>\n",
              "    <tr>\n",
              "      <th>4</th>\n",
              "      <td>1</td>\n",
              "      <td>50</td>\n",
              "      <td>3.5</td>\n",
              "      <td>2005-04-02 23:29:40</td>\n",
              "    </tr>\n",
              "    <tr>\n",
              "      <th>...</th>\n",
              "      <td>...</td>\n",
              "      <td>...</td>\n",
              "      <td>...</td>\n",
              "      <td>...</td>\n",
              "    </tr>\n",
              "    <tr>\n",
              "      <th>20000258</th>\n",
              "      <td>138493</td>\n",
              "      <td>68954</td>\n",
              "      <td>4.5</td>\n",
              "      <td>2009-11-13 15:42:00</td>\n",
              "    </tr>\n",
              "    <tr>\n",
              "      <th>20000259</th>\n",
              "      <td>138493</td>\n",
              "      <td>69526</td>\n",
              "      <td>4.5</td>\n",
              "      <td>2009-12-03 18:31:48</td>\n",
              "    </tr>\n",
              "    <tr>\n",
              "      <th>20000260</th>\n",
              "      <td>138493</td>\n",
              "      <td>69644</td>\n",
              "      <td>3.0</td>\n",
              "      <td>2009-12-07 18:10:57</td>\n",
              "    </tr>\n",
              "    <tr>\n",
              "      <th>20000261</th>\n",
              "      <td>138493</td>\n",
              "      <td>70286</td>\n",
              "      <td>5.0</td>\n",
              "      <td>2009-11-13 15:42:24</td>\n",
              "    </tr>\n",
              "    <tr>\n",
              "      <th>20000262</th>\n",
              "      <td>138493</td>\n",
              "      <td>71619</td>\n",
              "      <td>2.5</td>\n",
              "      <td>2009-10-17 20:25:36</td>\n",
              "    </tr>\n",
              "  </tbody>\n",
              "</table>\n",
              "<p>20000263 rows × 4 columns</p>\n",
              "</div>"
            ],
            "text/plain": [
              "          userId  movieId  rating            timestamp\n",
              "0              1        2     3.5  2005-04-02 23:53:47\n",
              "1              1       29     3.5  2005-04-02 23:31:16\n",
              "2              1       32     3.5  2005-04-02 23:33:39\n",
              "3              1       47     3.5  2005-04-02 23:32:07\n",
              "4              1       50     3.5  2005-04-02 23:29:40\n",
              "...          ...      ...     ...                  ...\n",
              "20000258  138493    68954     4.5  2009-11-13 15:42:00\n",
              "20000259  138493    69526     4.5  2009-12-03 18:31:48\n",
              "20000260  138493    69644     3.0  2009-12-07 18:10:57\n",
              "20000261  138493    70286     5.0  2009-11-13 15:42:24\n",
              "20000262  138493    71619     2.5  2009-10-17 20:25:36\n",
              "\n",
              "[20000263 rows x 4 columns]"
            ]
          },
          "metadata": {
            "tags": []
          },
          "execution_count": 120
        }
      ]
    },
    {
      "cell_type": "markdown",
      "metadata": {
        "id": "LmwbWCSGiDR8"
      },
      "source": [
        "## Data Preprocessing"
      ]
    },
    {
      "cell_type": "code",
      "metadata": {
        "id": "R5qjZpeZiDR8",
        "outputId": "f2b03fba-44ee-4c7e-8750-42499bbb14d7"
      },
      "source": [
        "# extract tags that have relevance > 0.8\n",
        "\n",
        "relevant_tags = genome_scores[genome_scores['relevance'] > 0.8]\n",
        "relevant_tags"
      ],
      "execution_count": null,
      "outputs": [
        {
          "output_type": "execute_result",
          "data": {
            "text/html": [
              "<div>\n",
              "<style scoped>\n",
              "    .dataframe tbody tr th:only-of-type {\n",
              "        vertical-align: middle;\n",
              "    }\n",
              "\n",
              "    .dataframe tbody tr th {\n",
              "        vertical-align: top;\n",
              "    }\n",
              "\n",
              "    .dataframe thead th {\n",
              "        text-align: right;\n",
              "    }\n",
              "</style>\n",
              "<table border=\"1\" class=\"dataframe\">\n",
              "  <thead>\n",
              "    <tr style=\"text-align: right;\">\n",
              "      <th></th>\n",
              "      <th>movieId</th>\n",
              "      <th>tagId</th>\n",
              "      <th>relevance</th>\n",
              "    </tr>\n",
              "  </thead>\n",
              "  <tbody>\n",
              "    <tr>\n",
              "      <th>28</th>\n",
              "      <td>1</td>\n",
              "      <td>29</td>\n",
              "      <td>0.89200</td>\n",
              "    </tr>\n",
              "    <tr>\n",
              "      <th>62</th>\n",
              "      <td>1</td>\n",
              "      <td>63</td>\n",
              "      <td>0.93325</td>\n",
              "    </tr>\n",
              "    <tr>\n",
              "      <th>63</th>\n",
              "      <td>1</td>\n",
              "      <td>64</td>\n",
              "      <td>0.98575</td>\n",
              "    </tr>\n",
              "    <tr>\n",
              "      <th>185</th>\n",
              "      <td>1</td>\n",
              "      <td>186</td>\n",
              "      <td>0.95650</td>\n",
              "    </tr>\n",
              "    <tr>\n",
              "      <th>192</th>\n",
              "      <td>1</td>\n",
              "      <td>193</td>\n",
              "      <td>0.81925</td>\n",
              "    </tr>\n",
              "    <tr>\n",
              "      <th>...</th>\n",
              "      <td>...</td>\n",
              "      <td>...</td>\n",
              "      <td>...</td>\n",
              "    </tr>\n",
              "    <tr>\n",
              "      <th>11709528</th>\n",
              "      <td>131170</td>\n",
              "      <td>889</td>\n",
              "      <td>0.87650</td>\n",
              "    </tr>\n",
              "    <tr>\n",
              "      <th>11709529</th>\n",
              "      <td>131170</td>\n",
              "      <td>890</td>\n",
              "      <td>0.88350</td>\n",
              "    </tr>\n",
              "    <tr>\n",
              "      <th>11709637</th>\n",
              "      <td>131170</td>\n",
              "      <td>998</td>\n",
              "      <td>0.80550</td>\n",
              "    </tr>\n",
              "    <tr>\n",
              "      <th>11709638</th>\n",
              "      <td>131170</td>\n",
              "      <td>999</td>\n",
              "      <td>0.81525</td>\n",
              "    </tr>\n",
              "    <tr>\n",
              "      <th>11709651</th>\n",
              "      <td>131170</td>\n",
              "      <td>1012</td>\n",
              "      <td>0.85725</td>\n",
              "    </tr>\n",
              "  </tbody>\n",
              "</table>\n",
              "<p>102887 rows × 3 columns</p>\n",
              "</div>"
            ],
            "text/plain": [
              "          movieId  tagId  relevance\n",
              "28              1     29    0.89200\n",
              "62              1     63    0.93325\n",
              "63              1     64    0.98575\n",
              "185             1    186    0.95650\n",
              "192             1    193    0.81925\n",
              "...           ...    ...        ...\n",
              "11709528   131170    889    0.87650\n",
              "11709529   131170    890    0.88350\n",
              "11709637   131170    998    0.80550\n",
              "11709638   131170    999    0.81525\n",
              "11709651   131170   1012    0.85725\n",
              "\n",
              "[102887 rows x 3 columns]"
            ]
          },
          "metadata": {
            "tags": []
          },
          "execution_count": 121
        }
      ]
    },
    {
      "cell_type": "code",
      "metadata": {
        "id": "NPeYMwb4iDR8",
        "outputId": "a65928cb-02d0-4636-971c-4a3ec7c6b578"
      },
      "source": [
        "grouped_tags = relevant_tags.groupby('movieId')\n",
        "first = grouped_tags.first()\n",
        "first.index"
      ],
      "execution_count": null,
      "outputs": [
        {
          "output_type": "execute_result",
          "data": {
            "text/plain": [
              "Int64Index([     1,      2,      3,      4,      5,      6,      7,      8,\n",
              "                 9,     10,\n",
              "            ...\n",
              "            130075, 130087, 130490, 130496, 130520, 130578, 130840, 131013,\n",
              "            131168, 131170],\n",
              "           dtype='int64', name='movieId', length=10159)"
            ]
          },
          "metadata": {
            "tags": []
          },
          "execution_count": 122
        }
      ]
    },
    {
      "cell_type": "code",
      "metadata": {
        "id": "a9xnUIYhiDR9"
      },
      "source": [
        "tags = []\n",
        "\n",
        "for i in range(len(movies)):\n",
        "    l = []\n",
        "    m_id = movies.loc[i,'movieId']\n",
        "    if m_id in first.index:\n",
        "        t = grouped_tags.get_group(m_id)\n",
        "        for j in t['tagId']:\n",
        "            l.append(j)\n",
        "        tags.append(l)\n",
        "    else:\n",
        "        tags.append(l)\n",
        "    \n",
        "movies['tags'] = tags"
      ],
      "execution_count": null,
      "outputs": []
    },
    {
      "cell_type": "code",
      "metadata": {
        "id": "ZoINctufiDR9"
      },
      "source": [
        "tags_ = []\n",
        "for tag in movies['tags']:\n",
        "    list_ = \"\"\n",
        "    if tag == []:\n",
        "        tags_.append(\" \")\n",
        "    else:\n",
        "        \n",
        "        for t in tag:\n",
        "            t_ = genome_tags[genome_tags['tagId']==t]['tag']\n",
        "            t__ = genome_tags.iloc[t_.index[0]]['tag']\n",
        "            list_ = list_ + t__ + ' ' \n",
        "        tags_.append(list_)"
      ],
      "execution_count": null,
      "outputs": []
    },
    {
      "cell_type": "code",
      "metadata": {
        "id": "WU34H00wiDR9"
      },
      "source": [
        "movies.drop(['tags'],axis=1)\n",
        "movies['tags'] = tags_"
      ],
      "execution_count": null,
      "outputs": []
    },
    {
      "cell_type": "markdown",
      "metadata": {
        "id": "TGHtI73UiDR9"
      },
      "source": [
        "## Movies with tags info"
      ]
    },
    {
      "cell_type": "code",
      "metadata": {
        "id": "ckCnsWqKiDR9",
        "outputId": "2bfb5918-cf3e-44dc-c30f-a223f3067ac8"
      },
      "source": [
        "movies"
      ],
      "execution_count": null,
      "outputs": [
        {
          "output_type": "execute_result",
          "data": {
            "text/html": [
              "<div>\n",
              "<style scoped>\n",
              "    .dataframe tbody tr th:only-of-type {\n",
              "        vertical-align: middle;\n",
              "    }\n",
              "\n",
              "    .dataframe tbody tr th {\n",
              "        vertical-align: top;\n",
              "    }\n",
              "\n",
              "    .dataframe thead th {\n",
              "        text-align: right;\n",
              "    }\n",
              "</style>\n",
              "<table border=\"1\" class=\"dataframe\">\n",
              "  <thead>\n",
              "    <tr style=\"text-align: right;\">\n",
              "      <th></th>\n",
              "      <th>movieId</th>\n",
              "      <th>title</th>\n",
              "      <th>genres</th>\n",
              "      <th>tags</th>\n",
              "    </tr>\n",
              "  </thead>\n",
              "  <tbody>\n",
              "    <tr>\n",
              "      <th>0</th>\n",
              "      <td>1</td>\n",
              "      <td>Toy Story (1995)</td>\n",
              "      <td>Adventure|Animation|Children|Comedy|Fantasy</td>\n",
              "      <td>adventure animated animation cartoon cgi child...</td>\n",
              "    </tr>\n",
              "    <tr>\n",
              "      <th>1</th>\n",
              "      <td>2</td>\n",
              "      <td>Jumanji (1995)</td>\n",
              "      <td>Adventure|Children|Fantasy</td>\n",
              "      <td>adventure animals childhood children family fa...</td>\n",
              "    </tr>\n",
              "    <tr>\n",
              "      <th>2</th>\n",
              "      <td>3</td>\n",
              "      <td>Grumpier Old Men (1995)</td>\n",
              "      <td>Comedy|Romance</td>\n",
              "      <td>comedy good sequel sequel sequels</td>\n",
              "    </tr>\n",
              "    <tr>\n",
              "      <th>3</th>\n",
              "      <td>4</td>\n",
              "      <td>Waiting to Exhale (1995)</td>\n",
              "      <td>Comedy|Drama|Romance</td>\n",
              "      <td>chick flick girlie movie women</td>\n",
              "    </tr>\n",
              "    <tr>\n",
              "      <th>4</th>\n",
              "      <td>5</td>\n",
              "      <td>Father of the Bride Part II (1995)</td>\n",
              "      <td>Comedy</td>\n",
              "      <td>comedy family father daughter relationship goo...</td>\n",
              "    </tr>\n",
              "    <tr>\n",
              "      <th>...</th>\n",
              "      <td>...</td>\n",
              "      <td>...</td>\n",
              "      <td>...</td>\n",
              "      <td>...</td>\n",
              "    </tr>\n",
              "    <tr>\n",
              "      <th>27273</th>\n",
              "      <td>131254</td>\n",
              "      <td>Kein Bund für's Leben (2007)</td>\n",
              "      <td>Comedy</td>\n",
              "      <td></td>\n",
              "    </tr>\n",
              "    <tr>\n",
              "      <th>27274</th>\n",
              "      <td>131256</td>\n",
              "      <td>Feuer, Eis &amp; Dosenbier (2002)</td>\n",
              "      <td>Comedy</td>\n",
              "      <td></td>\n",
              "    </tr>\n",
              "    <tr>\n",
              "      <th>27275</th>\n",
              "      <td>131258</td>\n",
              "      <td>The Pirates (2014)</td>\n",
              "      <td>Adventure</td>\n",
              "      <td></td>\n",
              "    </tr>\n",
              "    <tr>\n",
              "      <th>27276</th>\n",
              "      <td>131260</td>\n",
              "      <td>Rentun Ruusu (2001)</td>\n",
              "      <td>(no genres listed)</td>\n",
              "      <td></td>\n",
              "    </tr>\n",
              "    <tr>\n",
              "      <th>27277</th>\n",
              "      <td>131262</td>\n",
              "      <td>Innocence (2014)</td>\n",
              "      <td>Adventure|Fantasy|Horror</td>\n",
              "      <td></td>\n",
              "    </tr>\n",
              "  </tbody>\n",
              "</table>\n",
              "<p>27278 rows × 4 columns</p>\n",
              "</div>"
            ],
            "text/plain": [
              "       movieId                               title  \\\n",
              "0            1                    Toy Story (1995)   \n",
              "1            2                      Jumanji (1995)   \n",
              "2            3             Grumpier Old Men (1995)   \n",
              "3            4            Waiting to Exhale (1995)   \n",
              "4            5  Father of the Bride Part II (1995)   \n",
              "...        ...                                 ...   \n",
              "27273   131254        Kein Bund für's Leben (2007)   \n",
              "27274   131256       Feuer, Eis & Dosenbier (2002)   \n",
              "27275   131258                  The Pirates (2014)   \n",
              "27276   131260                 Rentun Ruusu (2001)   \n",
              "27277   131262                    Innocence (2014)   \n",
              "\n",
              "                                            genres  \\\n",
              "0      Adventure|Animation|Children|Comedy|Fantasy   \n",
              "1                       Adventure|Children|Fantasy   \n",
              "2                                   Comedy|Romance   \n",
              "3                             Comedy|Drama|Romance   \n",
              "4                                           Comedy   \n",
              "...                                            ...   \n",
              "27273                                       Comedy   \n",
              "27274                                       Comedy   \n",
              "27275                                    Adventure   \n",
              "27276                           (no genres listed)   \n",
              "27277                     Adventure|Fantasy|Horror   \n",
              "\n",
              "                                                    tags  \n",
              "0      adventure animated animation cartoon cgi child...  \n",
              "1      adventure animals childhood children family fa...  \n",
              "2                     comedy good sequel sequel sequels   \n",
              "3                        chick flick girlie movie women   \n",
              "4      comedy family father daughter relationship goo...  \n",
              "...                                                  ...  \n",
              "27273                                                     \n",
              "27274                                                     \n",
              "27275                                                     \n",
              "27276                                                     \n",
              "27277                                                     \n",
              "\n",
              "[27278 rows x 4 columns]"
            ]
          },
          "metadata": {
            "tags": []
          },
          "execution_count": 126
        }
      ]
    },
    {
      "cell_type": "code",
      "metadata": {
        "id": "YQzX908diDR9"
      },
      "source": [
        "genres_tags = []\n",
        "for i in range(len(movies['genres'])):\n",
        "    gt = movies['genres'][i] + \" \" + movie['tags'][i]\n",
        "    genres_tags.append(gt)\n",
        "movies['genres_tags'] = genres_tags"
      ],
      "execution_count": null,
      "outputs": []
    },
    {
      "cell_type": "markdown",
      "metadata": {
        "id": "xsXFDP4DiDR9"
      },
      "source": [
        "## Combine tags and genres"
      ]
    },
    {
      "cell_type": "code",
      "metadata": {
        "id": "vpvgzluGiDR9",
        "outputId": "a8587646-a6f1-4dea-8400-c5f6fe7576b2"
      },
      "source": [
        "movies"
      ],
      "execution_count": null,
      "outputs": [
        {
          "output_type": "execute_result",
          "data": {
            "text/html": [
              "<div>\n",
              "<style scoped>\n",
              "    .dataframe tbody tr th:only-of-type {\n",
              "        vertical-align: middle;\n",
              "    }\n",
              "\n",
              "    .dataframe tbody tr th {\n",
              "        vertical-align: top;\n",
              "    }\n",
              "\n",
              "    .dataframe thead th {\n",
              "        text-align: right;\n",
              "    }\n",
              "</style>\n",
              "<table border=\"1\" class=\"dataframe\">\n",
              "  <thead>\n",
              "    <tr style=\"text-align: right;\">\n",
              "      <th></th>\n",
              "      <th>movieId</th>\n",
              "      <th>title</th>\n",
              "      <th>genres</th>\n",
              "      <th>tags</th>\n",
              "      <th>genres_tags</th>\n",
              "    </tr>\n",
              "  </thead>\n",
              "  <tbody>\n",
              "    <tr>\n",
              "      <th>0</th>\n",
              "      <td>1</td>\n",
              "      <td>Toy Story (1995)</td>\n",
              "      <td>Adventure|Animation|Children|Comedy|Fantasy ad...</td>\n",
              "      <td>adventure animated animation cartoon cgi child...</td>\n",
              "      <td>Adventure|Animation|Children|Comedy|Fantasy ad...</td>\n",
              "    </tr>\n",
              "    <tr>\n",
              "      <th>1</th>\n",
              "      <td>2</td>\n",
              "      <td>Jumanji (1995)</td>\n",
              "      <td>Adventure|Children|Fantasy adventure animals c...</td>\n",
              "      <td>adventure animals childhood children family fa...</td>\n",
              "      <td>Adventure|Children|Fantasy adventure animals c...</td>\n",
              "    </tr>\n",
              "    <tr>\n",
              "      <th>2</th>\n",
              "      <td>3</td>\n",
              "      <td>Grumpier Old Men (1995)</td>\n",
              "      <td>Comedy|Romance comedy good sequel sequel seque...</td>\n",
              "      <td>comedy good sequel sequel sequels</td>\n",
              "      <td>Comedy|Romance comedy good sequel sequel seque...</td>\n",
              "    </tr>\n",
              "    <tr>\n",
              "      <th>3</th>\n",
              "      <td>4</td>\n",
              "      <td>Waiting to Exhale (1995)</td>\n",
              "      <td>Comedy|Drama|Romance chick flick girlie movie ...</td>\n",
              "      <td>chick flick girlie movie women</td>\n",
              "      <td>Comedy|Drama|Romance chick flick girlie movie ...</td>\n",
              "    </tr>\n",
              "    <tr>\n",
              "      <th>4</th>\n",
              "      <td>5</td>\n",
              "      <td>Father of the Bride Part II (1995)</td>\n",
              "      <td>Comedy comedy family father daughter relations...</td>\n",
              "      <td>comedy family father daughter relationship goo...</td>\n",
              "      <td>Comedy comedy family father daughter relations...</td>\n",
              "    </tr>\n",
              "    <tr>\n",
              "      <th>...</th>\n",
              "      <td>...</td>\n",
              "      <td>...</td>\n",
              "      <td>...</td>\n",
              "      <td>...</td>\n",
              "      <td>...</td>\n",
              "    </tr>\n",
              "    <tr>\n",
              "      <th>27273</th>\n",
              "      <td>131254</td>\n",
              "      <td>Kein Bund für's Leben (2007)</td>\n",
              "      <td>Comedy</td>\n",
              "      <td></td>\n",
              "      <td>Comedy</td>\n",
              "    </tr>\n",
              "    <tr>\n",
              "      <th>27274</th>\n",
              "      <td>131256</td>\n",
              "      <td>Feuer, Eis &amp; Dosenbier (2002)</td>\n",
              "      <td>Comedy</td>\n",
              "      <td></td>\n",
              "      <td>Comedy</td>\n",
              "    </tr>\n",
              "    <tr>\n",
              "      <th>27275</th>\n",
              "      <td>131258</td>\n",
              "      <td>The Pirates (2014)</td>\n",
              "      <td>Adventure</td>\n",
              "      <td></td>\n",
              "      <td>Adventure</td>\n",
              "    </tr>\n",
              "    <tr>\n",
              "      <th>27276</th>\n",
              "      <td>131260</td>\n",
              "      <td>Rentun Ruusu (2001)</td>\n",
              "      <td>(no genres listed)</td>\n",
              "      <td></td>\n",
              "      <td>(no genres listed)</td>\n",
              "    </tr>\n",
              "    <tr>\n",
              "      <th>27277</th>\n",
              "      <td>131262</td>\n",
              "      <td>Innocence (2014)</td>\n",
              "      <td>Adventure|Fantasy|Horror</td>\n",
              "      <td></td>\n",
              "      <td>Adventure|Fantasy|Horror</td>\n",
              "    </tr>\n",
              "  </tbody>\n",
              "</table>\n",
              "<p>27278 rows × 5 columns</p>\n",
              "</div>"
            ],
            "text/plain": [
              "       movieId                               title  \\\n",
              "0            1                    Toy Story (1995)   \n",
              "1            2                      Jumanji (1995)   \n",
              "2            3             Grumpier Old Men (1995)   \n",
              "3            4            Waiting to Exhale (1995)   \n",
              "4            5  Father of the Bride Part II (1995)   \n",
              "...        ...                                 ...   \n",
              "27273   131254        Kein Bund für's Leben (2007)   \n",
              "27274   131256       Feuer, Eis & Dosenbier (2002)   \n",
              "27275   131258                  The Pirates (2014)   \n",
              "27276   131260                 Rentun Ruusu (2001)   \n",
              "27277   131262                    Innocence (2014)   \n",
              "\n",
              "                                                  genres  \\\n",
              "0      Adventure|Animation|Children|Comedy|Fantasy ad...   \n",
              "1      Adventure|Children|Fantasy adventure animals c...   \n",
              "2      Comedy|Romance comedy good sequel sequel seque...   \n",
              "3      Comedy|Drama|Romance chick flick girlie movie ...   \n",
              "4      Comedy comedy family father daughter relations...   \n",
              "...                                                  ...   \n",
              "27273                                         Comedy       \n",
              "27274                                         Comedy       \n",
              "27275                                      Adventure       \n",
              "27276                             (no genres listed)       \n",
              "27277                       Adventure|Fantasy|Horror       \n",
              "\n",
              "                                                    tags  \\\n",
              "0      adventure animated animation cartoon cgi child...   \n",
              "1      adventure animals childhood children family fa...   \n",
              "2                     comedy good sequel sequel sequels    \n",
              "3                        chick flick girlie movie women    \n",
              "4      comedy family father daughter relationship goo...   \n",
              "...                                                  ...   \n",
              "27273                                                      \n",
              "27274                                                      \n",
              "27275                                                      \n",
              "27276                                                      \n",
              "27277                                                      \n",
              "\n",
              "                                             genres_tags  \n",
              "0      Adventure|Animation|Children|Comedy|Fantasy ad...  \n",
              "1      Adventure|Children|Fantasy adventure animals c...  \n",
              "2      Comedy|Romance comedy good sequel sequel seque...  \n",
              "3      Comedy|Drama|Romance chick flick girlie movie ...  \n",
              "4      Comedy comedy family father daughter relations...  \n",
              "...                                                  ...  \n",
              "27273                                       Comedy        \n",
              "27274                                       Comedy        \n",
              "27275                                    Adventure        \n",
              "27276                           (no genres listed)        \n",
              "27277                     Adventure|Fantasy|Horror        \n",
              "\n",
              "[27278 rows x 5 columns]"
            ]
          },
          "metadata": {
            "tags": []
          },
          "execution_count": 133
        }
      ]
    },
    {
      "cell_type": "code",
      "metadata": {
        "id": "Htv4pXFyQYoN"
      },
      "source": [
        "# add movie title to the rating dataframe\n",
        "rating = pd.merge(ratings,movie[['movieId','title']],on='movieId', how='left')"
      ],
      "execution_count": null,
      "outputs": []
    },
    {
      "cell_type": "code",
      "metadata": {
        "id": "Etbv4dQSiDR9"
      },
      "source": [
        "movies.drop_duplicates(subset =['movieId',\"title\"], keep = False, inplace = True) "
      ],
      "execution_count": null,
      "outputs": []
    },
    {
      "cell_type": "code",
      "metadata": {
        "id": "3cqzLvZAQYoO"
      },
      "source": [
        "tf = TfidfVectorizer(analyzer='word', ngram_range=(1,3), min_df=0, stop_words='english')\n",
        "matrix = tf.fit_transform(movie['genres_tags'])\n",
        "cosine_similarities = linear_kernel(matrix,matrix)\n",
        "indices = pd.Series(movie.index, index=movie['title'])\n",
        "movie_title = movie['title']"
      ],
      "execution_count": null,
      "outputs": []
    },
    {
      "cell_type": "markdown",
      "metadata": {
        "id": "HEmfrwIiiDR9"
      },
      "source": [
        "## Recommendation"
      ]
    },
    {
      "cell_type": "code",
      "metadata": {
        "id": "491Im0_6QYoO"
      },
      "source": [
        "# This function will output similar movies when you input a movie name\n",
        "\n",
        "def get_movies(title):\n",
        "    \n",
        "    idx = indices[title]\n",
        "\n",
        "    sim_scores = list(enumerate(cosine_similarities[idx]))\n",
        "    try:\n",
        "        \n",
        "        sim_scores = sorted(sim_scores, key=lambda x: x[1], reverse=True)\n",
        "    \n",
        "    except Exception as e:\n",
        "        \n",
        "        return None\n",
        "        \n",
        "    sim_scores = sim_scores[1:31]\n",
        "\n",
        "    movie_indices = [i[0] for i in sim_scores]\n",
        "\n",
        "    return movie_title.iloc[movie_indices]        \n",
        "        \n",
        "    \n",
        " "
      ],
      "execution_count": null,
      "outputs": []
    },
    {
      "cell_type": "code",
      "metadata": {
        "id": "E60kPbtjQYoO"
      },
      "source": [
        "# Get similar movies from the movies with top ratings\n",
        "\n",
        "def recommended_movies(userId, num_sim=10): # num_sim: number of similar movies of a movie \n",
        "    \n",
        "    userRatings = rating.loc[rating['userId'] == userId]\n",
        "    bestRatings = userRatings.loc[userRatings['rating'] == max(userRatings['rating'])]\n",
        "    max_rating_movielist = []\n",
        "  \n",
        "    movie_list = []\n",
        "    for i in range(len(bestRatings)):\n",
        "        max_rating_movielist.append(bestRatings.iloc[i]['title'])\n",
        "    for j in max_rating_movielist:\n",
        "        if get_movies(j) is None:\n",
        "            continue\n",
        "        else:\n",
        "            recommendedMovies = get_movies(j).head(num_sim)\n",
        "            for k in range(len(recommendedMovies)):\n",
        "                movie_list.append([recommendedMovies.iloc[k],num_sim - k])\n",
        "    return movie_list"
      ],
      "execution_count": null,
      "outputs": []
    },
    {
      "cell_type": "code",
      "metadata": {
        "id": "KffrZv8EQYoO"
      },
      "source": [
        "# recommend top 10 movies to user\n",
        "\n",
        "from collections import Counter\n",
        "\n",
        "def recommendation_top10(userId, num_sim=10):\n",
        "    list_ = recommended_movies(userId, num_sim)\n",
        "    dict_ = {}\n",
        "    title = []\n",
        "    for i in list_:\n",
        "        title.append(i[0])\n",
        "    title = list(set(title))\n",
        "    for j in title:\n",
        "        dict_[j] = 0\n",
        "    for i in list_:\n",
        "        dict_[i[0]] += i[1]\n",
        "    top10 = []\n",
        "    for k in sorted(dict_.keys(), key = lambda x:dict_[x], reverse = True)[:10]:\n",
        "      top10.append(k)\n",
        "    return top10\n",
        "\n",
        "    "
      ],
      "execution_count": null,
      "outputs": []
    },
    {
      "cell_type": "code",
      "metadata": {
        "id": "iYzsLIXpQYoO",
        "outputId": "25d9deca-a4b4-4caf-a8cd-f745aeb25a46"
      },
      "source": [
        "# movies user 1 loves\n",
        "\n",
        "user1 = rating.loc[rating['userId'] == 1]\n",
        "best1 = user1.loc[user1['rating'] == max(user1['rating'])]\n",
        "best1"
      ],
      "execution_count": null,
      "outputs": [
        {
          "output_type": "execute_result",
          "data": {
            "text/html": [
              "<div>\n",
              "<style scoped>\n",
              "    .dataframe tbody tr th:only-of-type {\n",
              "        vertical-align: middle;\n",
              "    }\n",
              "\n",
              "    .dataframe tbody tr th {\n",
              "        vertical-align: top;\n",
              "    }\n",
              "\n",
              "    .dataframe thead th {\n",
              "        text-align: right;\n",
              "    }\n",
              "</style>\n",
              "<table border=\"1\" class=\"dataframe\">\n",
              "  <thead>\n",
              "    <tr style=\"text-align: right;\">\n",
              "      <th></th>\n",
              "      <th>userId</th>\n",
              "      <th>movieId</th>\n",
              "      <th>rating</th>\n",
              "      <th>timestamp</th>\n",
              "      <th>title</th>\n",
              "    </tr>\n",
              "  </thead>\n",
              "  <tbody>\n",
              "    <tr>\n",
              "      <th>131</th>\n",
              "      <td>1</td>\n",
              "      <td>4993</td>\n",
              "      <td>5.0</td>\n",
              "      <td>2005-04-02 23:31:22</td>\n",
              "      <td>Lord of the Rings: The Fellowship of the Ring,...</td>\n",
              "    </tr>\n",
              "    <tr>\n",
              "      <th>142</th>\n",
              "      <td>1</td>\n",
              "      <td>5952</td>\n",
              "      <td>5.0</td>\n",
              "      <td>2005-04-02 23:30:19</td>\n",
              "      <td>Lord of the Rings: The Two Towers, The (2002)</td>\n",
              "    </tr>\n",
              "    <tr>\n",
              "      <th>158</th>\n",
              "      <td>1</td>\n",
              "      <td>7153</td>\n",
              "      <td>5.0</td>\n",
              "      <td>2005-04-02 23:30:33</td>\n",
              "      <td>Lord of the Rings: The Return of the King, The...</td>\n",
              "    </tr>\n",
              "    <tr>\n",
              "      <th>170</th>\n",
              "      <td>1</td>\n",
              "      <td>8507</td>\n",
              "      <td>5.0</td>\n",
              "      <td>2004-09-10 03:13:47</td>\n",
              "      <td>Freaks (1932)</td>\n",
              "    </tr>\n",
              "  </tbody>\n",
              "</table>\n",
              "</div>"
            ],
            "text/plain": [
              "     userId  movieId  rating            timestamp  \\\n",
              "131       1     4993     5.0  2005-04-02 23:31:22   \n",
              "142       1     5952     5.0  2005-04-02 23:30:19   \n",
              "158       1     7153     5.0  2005-04-02 23:30:33   \n",
              "170       1     8507     5.0  2004-09-10 03:13:47   \n",
              "\n",
              "                                                 title  \n",
              "131  Lord of the Rings: The Fellowship of the Ring,...  \n",
              "142      Lord of the Rings: The Two Towers, The (2002)  \n",
              "158  Lord of the Rings: The Return of the King, The...  \n",
              "170                                      Freaks (1932)  "
            ]
          },
          "metadata": {
            "tags": []
          },
          "execution_count": 21
        }
      ]
    },
    {
      "cell_type": "code",
      "metadata": {
        "id": "PGEbSaoGQYoO",
        "outputId": "9b6426cf-9d1f-4f1f-b2be-b1ba776a25b8"
      },
      "source": [
        "# movies recommended to user 1\n",
        "\n",
        "recommendation_top10(1)"
      ],
      "execution_count": null,
      "outputs": [
        {
          "output_type": "execute_result",
          "data": {
            "text/plain": [
              "['Hobbit: The Desolation of Smaug, The (2013)',\n",
              " 'Hobbit: An Unexpected Journey, The (2012)',\n",
              " 'The Hobbit: The Battle of the Five Armies (2014)',\n",
              " 'Star Wars: Episode IV - A New Hope (1977)',\n",
              " 'Lord of the Rings: The Fellowship of the Ring, The (2001)',\n",
              " 'Lord of the Rings: The Two Towers, The (2002)',\n",
              " 'Percy Jackson & the Olympians: The Lightning Thief (2010)',\n",
              " 'Lord of the Rings: The Return of the King, The (2003)',\n",
              " 'Gladiator (2000)',\n",
              " 'Star Wars: Episode III - Revenge of the Sith (2005)']"
            ]
          },
          "metadata": {
            "tags": []
          },
          "execution_count": 251
        }
      ]
    },
    {
      "cell_type": "code",
      "metadata": {
        "id": "SWiYx6zdQYoO",
        "outputId": "b612e1b8-9a15-4059-fc4f-f3dc8c3014d2"
      },
      "source": [
        "# movies user 6 loves\n",
        "\n",
        "user6 = rating.loc[rating['userId'] == 6]\n",
        "best6 = user6.loc[user6['rating'] == max(user6['rating'])]\n",
        "best6"
      ],
      "execution_count": null,
      "outputs": [
        {
          "output_type": "execute_result",
          "data": {
            "text/html": [
              "<div>\n",
              "<style scoped>\n",
              "    .dataframe tbody tr th:only-of-type {\n",
              "        vertical-align: middle;\n",
              "    }\n",
              "\n",
              "    .dataframe tbody tr th {\n",
              "        vertical-align: top;\n",
              "    }\n",
              "\n",
              "    .dataframe thead th {\n",
              "        text-align: right;\n",
              "    }\n",
              "</style>\n",
              "<table border=\"1\" class=\"dataframe\">\n",
              "  <thead>\n",
              "    <tr style=\"text-align: right;\">\n",
              "      <th></th>\n",
              "      <th>userId</th>\n",
              "      <th>movieId</th>\n",
              "      <th>rating</th>\n",
              "      <th>timestamp</th>\n",
              "      <th>title</th>\n",
              "    </tr>\n",
              "  </thead>\n",
              "  <tbody>\n",
              "    <tr>\n",
              "      <th>517</th>\n",
              "      <td>6</td>\n",
              "      <td>1</td>\n",
              "      <td>5.0</td>\n",
              "      <td>1997-03-13 17:50:52</td>\n",
              "      <td>Toy Story (1995)</td>\n",
              "    </tr>\n",
              "    <tr>\n",
              "      <th>519</th>\n",
              "      <td>6</td>\n",
              "      <td>7</td>\n",
              "      <td>5.0</td>\n",
              "      <td>1997-03-13 17:52:38</td>\n",
              "      <td>Sabrina (1995)</td>\n",
              "    </tr>\n",
              "    <tr>\n",
              "      <th>520</th>\n",
              "      <td>6</td>\n",
              "      <td>17</td>\n",
              "      <td>5.0</td>\n",
              "      <td>1997-03-13 17:50:52</td>\n",
              "      <td>Sense and Sensibility (1995)</td>\n",
              "    </tr>\n",
              "    <tr>\n",
              "      <th>521</th>\n",
              "      <td>6</td>\n",
              "      <td>52</td>\n",
              "      <td>5.0</td>\n",
              "      <td>1997-03-13 17:54:18</td>\n",
              "      <td>Mighty Aphrodite (1995)</td>\n",
              "    </tr>\n",
              "    <tr>\n",
              "      <th>522</th>\n",
              "      <td>6</td>\n",
              "      <td>62</td>\n",
              "      <td>5.0</td>\n",
              "      <td>1997-03-13 17:50:52</td>\n",
              "      <td>Mr. Holland's Opus (1995)</td>\n",
              "    </tr>\n",
              "    <tr>\n",
              "      <th>525</th>\n",
              "      <td>6</td>\n",
              "      <td>141</td>\n",
              "      <td>5.0</td>\n",
              "      <td>1997-03-13 17:50:52</td>\n",
              "      <td>Birdcage, The (1996)</td>\n",
              "    </tr>\n",
              "    <tr>\n",
              "      <th>529</th>\n",
              "      <td>6</td>\n",
              "      <td>648</td>\n",
              "      <td>5.0</td>\n",
              "      <td>1997-03-13 17:50:52</td>\n",
              "      <td>Mission: Impossible (1996)</td>\n",
              "    </tr>\n",
              "  </tbody>\n",
              "</table>\n",
              "</div>"
            ],
            "text/plain": [
              "     userId  movieId  rating            timestamp  \\\n",
              "517       6        1     5.0  1997-03-13 17:50:52   \n",
              "519       6        7     5.0  1997-03-13 17:52:38   \n",
              "520       6       17     5.0  1997-03-13 17:50:52   \n",
              "521       6       52     5.0  1997-03-13 17:54:18   \n",
              "522       6       62     5.0  1997-03-13 17:50:52   \n",
              "525       6      141     5.0  1997-03-13 17:50:52   \n",
              "529       6      648     5.0  1997-03-13 17:50:52   \n",
              "\n",
              "                            title  \n",
              "517              Toy Story (1995)  \n",
              "519                Sabrina (1995)  \n",
              "520  Sense and Sensibility (1995)  \n",
              "521       Mighty Aphrodite (1995)  \n",
              "522     Mr. Holland's Opus (1995)  \n",
              "525          Birdcage, The (1996)  \n",
              "529    Mission: Impossible (1996)  "
            ]
          },
          "metadata": {
            "tags": []
          },
          "execution_count": 25
        }
      ]
    },
    {
      "cell_type": "code",
      "metadata": {
        "id": "Nw8Acz8LQYoO",
        "outputId": "b0e47c7b-0d96-476c-8b0d-e7a3f8548c30"
      },
      "source": [
        "# movies recommended to user 6\n",
        "\n",
        "recommendation_top10(6)"
      ],
      "execution_count": null,
      "outputs": [
        {
          "output_type": "execute_result",
          "data": {
            "text/plain": [
              "['Sunshine Boys, The (1975)',\n",
              " 'Music of the Heart (1999)',\n",
              " 'Emma (1996)',\n",
              " 'Passenger 57 (1992)',\n",
              " 'Toy Story 2 (1999)',\n",
              " 'Alex and Emma (2003)',\n",
              " 'In & Out (1997)',\n",
              " 'My Left Foot (1989)',\n",
              " 'Enemy of the State (1998)',\n",
              " 'Together (Han ni Zai Yiki) (2002)']"
            ]
          },
          "metadata": {
            "tags": []
          },
          "execution_count": 252
        }
      ]
    },
    {
      "cell_type": "markdown",
      "metadata": {
        "id": "I_-SlVgUezgA"
      },
      "source": [
        "\n",
        "\n",
        "\n",
        "\n",
        "# **Evaluation and Comparision of Models**\n"
      ]
    },
    {
      "cell_type": "markdown",
      "metadata": {
        "id": "sp_RId5SNZ2-"
      },
      "source": [
        "## 1.RMSE"
      ]
    },
    {
      "cell_type": "code",
      "metadata": {
        "id": "59ug9DLeezgA"
      },
      "source": [
        "df_set = Dataset.load_from_df(ratings,reader)"
      ],
      "execution_count": null,
      "outputs": []
    },
    {
      "cell_type": "code",
      "metadata": {
        "id": "6ifueYuGezgA"
      },
      "source": [
        "trainset, testset = train_test_split(df_set, test_size=.2)"
      ],
      "execution_count": null,
      "outputs": []
    },
    {
      "cell_type": "markdown",
      "metadata": {
        "id": "R70anNnuNeZA"
      },
      "source": [
        "  * SVD Evaluation"
      ]
    },
    {
      "cell_type": "code",
      "metadata": {
        "colab": {
          "base_uri": "https://localhost:8080/"
        },
        "id": "c__ksb4VezgA",
        "outputId": "5e709276-49de-46e0-eaac-36f5cd818600"
      },
      "source": [
        "svd_pred = svdtuned.test(testset)\n",
        "accuracy.rmse(svd_pred,verbose=True)"
      ],
      "execution_count": null,
      "outputs": [
        {
          "output_type": "stream",
          "text": [
            "RMSE: 1.0189\n"
          ],
          "name": "stdout"
        },
        {
          "output_type": "execute_result",
          "data": {
            "text/plain": [
              "1.0189029400898864"
            ]
          },
          "metadata": {
            "tags": []
          },
          "execution_count": 18
        }
      ]
    },
    {
      "cell_type": "markdown",
      "metadata": {
        "id": "R-J8BzcPZfUp"
      },
      "source": [
        "\n",
        "\n",
        "```\n",
        "* SVDpp Evaluation\n",
        "svdpp_pred = pptuned.test(testset)\n",
        "accuracy.rmse(svdpp_pred,verbose=True)\n",
        "RMSE: 1.0514\n",
        "1.0514194522591016\n",
        "```\n",
        "\n"
      ]
    },
    {
      "cell_type": "markdown",
      "metadata": {
        "id": "RoLCmpYAK7rc"
      },
      "source": [
        "* KNNBasic item-based Evaluation"
      ]
    },
    {
      "cell_type": "code",
      "metadata": {
        "colab": {
          "base_uri": "https://localhost:8080/"
        },
        "id": "pUuU0UC2ezgA",
        "outputId": "fe07470e-0c2f-49eb-d1a8-2b78e9d4897e"
      },
      "source": [
        "knnbasic_pred = knn_algo.test(testset)\n",
        "accuracy.rmse(knnbasic_pred,verbose=True)"
      ],
      "execution_count": null,
      "outputs": [
        {
          "output_type": "stream",
          "text": [
            "RMSE: 1.0523\n"
          ],
          "name": "stdout"
        },
        {
          "output_type": "execute_result",
          "data": {
            "text/plain": [
              "1.0523421727520366"
            ]
          },
          "metadata": {
            "tags": []
          },
          "execution_count": 38
        }
      ]
    },
    {
      "cell_type": "markdown",
      "metadata": {
        "id": "I0nnN9_Ivei9"
      },
      "source": [
        "* Item-item model Evaluation"
      ]
    },
    {
      "cell_type": "code",
      "metadata": {
        "id": "DG9p0Ny5vei9"
      },
      "source": [
        "#model evaluation \n",
        "new_df = items_df[:50]\n",
        "new_df = new_df[['userId', 'movieId', 'rating']]\n",
        "new_df = new_df[new_df['rating'].isin([5, 4.5])]\n",
        "eva_df = new_df.copy()\n",
        "new_df = new_df[:5]\n",
        "\n",
        "y_true = new_df['rating'].to_list()\n",
        "y_true = [5.0, 5.0, 5.0, 4.0, 4.5]\n",
        "\n",
        "def eva(user_id, similiar_movie_id_list):\n",
        "    for i in similiar_movie_id_list:\n",
        "        temp = item_item_cs_df.loc[i[0]].sort_values(ascending = False)\n",
        "        temp = temp[1:]\n",
        "        ref = []\n",
        "        for m, n in zip(temp.index, temp.values):\n",
        "            if (0.99 > n > 0.4):\n",
        "                ref.append((m,n))\n",
        "        score = 0\n",
        "        total_sim = 0\n",
        "        final_result = 0\n",
        "        for p in range(len(ref)):\n",
        "            a = items_df[(items_df['userId'] == user_id) & (items_df['movieId'] == ref[p][0])]['rating']\n",
        "            if(a.size > 0 ):\n",
        "                temp_score = a.values[0] * ref[p][1]\n",
        "                score += temp_score\n",
        "                total_sim += ref[p][1]\n",
        "        final_result = score / total_sim\n",
        "    return final_result\n",
        "\n",
        "def get_similarity(movie_id_list):\n",
        "    similiar_id_list = [] # empty list of tuples\n",
        "    for i in movie_id_list:\n",
        "        temp = item_item_cs_df.loc[i].sort_values(ascending = False)\n",
        "        for m, n in zip(temp.index, temp.values): \n",
        "            if (0.99 > n > 0.4):\n",
        "                if (m not in movie_id_list ): \n",
        "                    similiar_id_list.append((m,n))\n",
        "    return similiar_id_list"
      ],
      "execution_count": null,
      "outputs": []
    },
    {
      "cell_type": "code",
      "metadata": {
        "id": "9sE1PV8_5wxe"
      },
      "source": [
        "new_df = items_df[:200]\n",
        "new_df = new_df[['userId', 'movieId', 'rating']]\n",
        "new_df = new_df[new_df['rating'].isin([5, 4.5])]"
      ],
      "execution_count": null,
      "outputs": []
    },
    {
      "cell_type": "code",
      "metadata": {
        "id": "5fdXMCLc6hWP"
      },
      "source": [
        "user_lst = new_df['userId'].to_list()\n",
        "movie_lst = new_df['movieId'].to_list()\n",
        "y_pred = []\n",
        "index_lst = []\n",
        "\n",
        "for y in range(len(user_lst)):\n",
        "    user_id = user_lst[y]\n",
        "    movie_id = []\n",
        "    movie_id.append(movie_lst[y])\n",
        "    sim_lst = get_similarity(movie_id)\n",
        "    if (len(sim_lst) == 0):\n",
        "        index_lst.append(movie_id)\n",
        "    elif (len(sim_lst) > 0):\n",
        "        result = eva(user_id, sim_lst)\n",
        "        y_pred.append(result)"
      ],
      "execution_count": null,
      "outputs": []
    },
    {
      "cell_type": "code",
      "metadata": {
        "id": "APv5-hW75wxe"
      },
      "source": [
        "y_true = new_df['rating'].to_list()"
      ],
      "execution_count": null,
      "outputs": []
    },
    {
      "cell_type": "code",
      "metadata": {
        "id": "YyX_PASN5wxe",
        "outputId": "cf33d21b-0edc-4c38-913f-3dc18fd88a21"
      },
      "source": [
        "from sklearn.metrics import mean_squared_error\n",
        "mean_squared_error(y_true, y_pred, squared=False)\n",
        "#rmse"
      ],
      "execution_count": null,
      "outputs": [
        {
          "output_type": "execute_result",
          "data": {
            "text/plain": [
              "0.9188000714196635"
            ]
          },
          "metadata": {
            "tags": []
          },
          "execution_count": 108
        }
      ]
    },
    {
      "cell_type": "code",
      "metadata": {
        "id": "NGuL7i1A5wxe",
        "outputId": "37e1f3ca-9e71-4417-eb81-0844c4b6ea45"
      },
      "source": [
        "from sklearn.metrics import mean_absolute_error\n",
        "mean_absolute_error(y_true, y_pred)\n",
        "#mse"
      ],
      "execution_count": null,
      "outputs": [
        {
          "output_type": "execute_result",
          "data": {
            "text/plain": [
              "0.8626390158460293"
            ]
          },
          "metadata": {
            "tags": []
          },
          "execution_count": 109
        }
      ]
    },
    {
      "cell_type": "markdown",
      "metadata": {
        "id": "2SrovCs7MTXx"
      },
      "source": [
        "## 2.Precision at k"
      ]
    },
    {
      "cell_type": "code",
      "metadata": {
        "id": "ibqw4vCs8Sly"
      },
      "source": [
        "from collections import defaultdict\n",
        "def precision_recall_at_k(predictions, k, threshold):\n",
        "    \"\"\"Return precision and recall at k metrics for each user\"\"\"\n",
        "\n",
        "    # First map the predictions to each user.\n",
        "    user_est_true = defaultdict(list)\n",
        "    for uid, _, true_r, est, _ in predictions:\n",
        "        user_est_true[uid].append((est, true_r))\n",
        "\n",
        "    precisions = dict()\n",
        "    recalls = dict()\n",
        "    for uid, user_ratings in user_est_true.items():\n",
        "\n",
        "        # Sort user ratings by estimated value\n",
        "        user_ratings.sort(key=lambda x: x[0], reverse=True)\n",
        "\n",
        "        # Number of relevant items\n",
        "        n_rel = sum((true_r >= threshold) for (_, true_r) in user_ratings)\n",
        "\n",
        "        # Number of recommended items in top k\n",
        "        n_rec_k = sum((est >= threshold) for (est, _) in user_ratings[:k])\n",
        "\n",
        "        # Number of relevant and recommended items in top k\n",
        "        n_rel_and_rec_k = sum(((true_r >= threshold) and (est >= threshold))\n",
        "                              for (est, true_r) in user_ratings[:k])\n",
        "\n",
        "        # Precision@K: Proportion of recommended items that are relevant\n",
        "        # When n_rec_k is 0, Precision is undefined. We here set it to 0.\n",
        "\n",
        "        precisions[uid] = n_rel_and_rec_k / n_rec_k if n_rec_k != 0 else 0\n",
        "\n",
        "        # Recall@K: Proportion of relevant items that are recommended\n",
        "        # When n_rel is 0, Recall is undefined. We here set it to 0.\n",
        "\n",
        "        recalls[uid] = n_rel_and_rec_k / n_rel if n_rel != 0 else 0\n",
        "\n",
        "    return precisions, recalls"
      ],
      "execution_count": 30,
      "outputs": []
    },
    {
      "cell_type": "markdown",
      "metadata": {
        "id": "uTwB1VcD2SAv"
      },
      "source": [
        "* SVD Precision"
      ]
    },
    {
      "cell_type": "code",
      "metadata": {
        "colab": {
          "base_uri": "https://localhost:8080/"
        },
        "id": "G2PjSW_62YQq",
        "outputId": "9cad9d13-90fa-46b8-be31-810fedd6a894"
      },
      "source": [
        "precisions, recalls = precision_recall_at_k(svd_pred, k=10, threshold=4)\n",
        "\n",
        "# Precision and recall can then be averaged over all users\n",
        "print(sum(prec for prec in precisions.values()) / len(precisions))\n",
        "print(sum(rec for rec in recalls.values()) / len(recalls))"
      ],
      "execution_count": 31,
      "outputs": [
        {
          "output_type": "stream",
          "text": [
            "0.5594169224887681\n",
            "0.6315577597190569\n"
          ],
          "name": "stdout"
        }
      ]
    },
    {
      "cell_type": "code",
      "metadata": {
        "colab": {
          "base_uri": "https://localhost:8080/"
        },
        "id": "EV-OYOmE3l7m",
        "outputId": "a03186d0-81c5-4fd2-ffa0-10e5431a5ef8"
      },
      "source": [
        "precisions, recalls = precision_recall_at_k(svd_pred, k=10, threshold=3)\n",
        "\n",
        "# Precision and recall can then be averaged over all users\n",
        "print(sum(prec for prec in precisions.values()) / len(precisions))\n",
        "print(sum(rec for rec in recalls.values()) / len(recalls))"
      ],
      "execution_count": 32,
      "outputs": [
        {
          "output_type": "stream",
          "text": [
            "0.8586547919104469\n",
            "0.6527225673583619\n"
          ],
          "name": "stdout"
        }
      ]
    },
    {
      "cell_type": "markdown",
      "metadata": {
        "id": "C7dMdetjNzDe"
      },
      "source": [
        "* KNNBasic Item-based Precision"
      ]
    },
    {
      "cell_type": "code",
      "metadata": {
        "id": "DdmZzu2ZkTlQ",
        "outputId": "fc40e2c5-ee1c-476f-ac2a-effd731ea946"
      },
      "source": [
        "precisions, recalls = precision_recall_at_k(predictions, k=10, threshold=4)\n",
        "\n",
        "# Precision and recall can then be averaged over all users\n",
        "print(sum(prec for prec in precisions.values()) / len(precisions))\n",
        "print(sum(rec for rec in recalls.values()) / len(recalls))"
      ],
      "execution_count": null,
      "outputs": [
        {
          "output_type": "stream",
          "text": [
            "Computing the cosine similarity matrix...\n",
            "Done computing similarity matrix.\n",
            "0.25846975975363995\n",
            "0.16490884081205864\n",
            "Computing the cosine similarity matrix...\n",
            "Done computing similarity matrix.\n",
            "0.2472788306953785\n",
            "0.16207797914207445\n",
            "Computing the cosine similarity matrix...\n",
            "Done computing similarity matrix.\n",
            "0.2508504212366874\n",
            "0.16454933740970004\n",
            "Computing the cosine similarity matrix...\n",
            "Done computing similarity matrix.\n",
            "0.2333758503401361\n",
            "0.16064070892108379\n",
            "Computing the cosine similarity matrix...\n",
            "Done computing similarity matrix.\n",
            "0.24924422285533407\n",
            "0.16199916152207375\n"
          ],
          "name": "stdout"
        }
      ]
    },
    {
      "cell_type": "markdown",
      "metadata": {
        "id": "ND9VdjkNOGS_"
      },
      "source": [
        "* Content-based Precision"
      ]
    },
    {
      "cell_type": "code",
      "metadata": {
        "id": "OcHXMJF5QYoO"
      },
      "source": [
        "# evaluation for user\n",
        "\n",
        "from statistics import mean \n",
        "\n",
        "def evaluation(userId, num_sim, threshold): # threshold: rating of recommended movie to pass in order to be considered a good recommendation.\n",
        "    recMovsList = recommendation_top10(userId, num_sim)\n",
        "    recMovsId = []\n",
        "    for i in recMovsList:\n",
        "        id_ = movie.loc[movie['title'] == i]['movieId']\n",
        "        recMovsId.append(id_)\n",
        "    rating_user = rating.loc[rating['userId']==userId]\n",
        "    if threshold == None:\n",
        "        meanRating = mean(rating_user['rating'])\n",
        "        threshold = meanRating\n",
        "    above = 0\n",
        "    seenMovs = 0\n",
        "    ids = []\n",
        "    for d in range(len(rating_user['movieId'])):\n",
        "        ids.append(rating_user['movieId'].iloc[d])\n",
        "    for j in recMovsId:\n",
        "        \n",
        "        if j.values[0] in ids:\n",
        "            \n",
        "            if float(rating_user.loc[rating_user[\"movieId\"] == j.values[0]]['rating']) > threshold:\n",
        "                seenMovs += 1\n",
        "                above += 1\n",
        "            else:\n",
        "                seenMovs += 1\n",
        "        else:\n",
        "            continue\n",
        "        \n",
        "    if seenMovs == 0:\n",
        "        return -1\n",
        "    else:\n",
        "        return above/seenMovs"
      ],
      "execution_count": null,
      "outputs": []
    },
    {
      "cell_type": "code",
      "metadata": {
        "id": "FBAilZ19QYoO"
      },
      "source": [
        "# evaluation for users\n",
        "\n",
        "def evaluations(users, num_user = 100 , num_sim = 10, threshold = None): # num_user: number of user to evaluate\n",
        "    total = 0\n",
        "    users_num = 0 \n",
        "    for i in users:\n",
        "        if evaluation(i, num_sim, threshold) == -1:\n",
        "            continue\n",
        "        else:\n",
        "            users_num += 1\n",
        "            total += evaluation(i, num_sim, threshold)\n",
        "            if users_num == num_user:\n",
        "                return total/num_user\n",
        "            else:\n",
        "                continue       "
      ],
      "execution_count": null,
      "outputs": []
    },
    {
      "cell_type": "code",
      "metadata": {
        "id": "eAmfQmwcQYoO"
      },
      "source": [
        "# User IDs\n",
        "users = list(set(rating['userId']))"
      ],
      "execution_count": null,
      "outputs": []
    },
    {
      "cell_type": "code",
      "metadata": {
        "id": "TMKdQPHDQYoO",
        "outputId": "66b9e22b-b377-4717-c792-4fb13f4cc6ae"
      },
      "source": [
        "# result analysis\n",
        "\n",
        "print(\"Evaluation metric: Precision at 10 \")\n",
        "print(\"Number of user evaluated: 100 \")\n",
        "print(\"\\n\")\n",
        "print(\"Threshold = 4: \")\n",
        "print(\"number of similar movies = 20: \", evaluations(users, num_sim = 20, threshold =4))\n",
        "print(\"number of similar movies = 10: \", evaluations(users, num_sim = 10, threshold =4))\n",
        "print(\"number of similar movies = 5: \", evaluations(users, num_sim = 5, threshold =4))\n",
        "print(\"number of similar movies = 3: \", evaluations(users, num_sim = 3, threshold =4))\n",
        "print(\"number of similar movies = 1: \", evaluations(users, num_sim = 1, threshold =4))\n",
        "print(\"\\n\")\n",
        "print(\"Threshold = mean rating of each user: \")\n",
        "print(\"number of similar movies = 20: \", evaluations(users, num_sim = 20))\n",
        "print(\"number of similar movies = 10: \", evaluations(users, num_sim = 10))\n",
        "print(\"number of similar movies = 5: \", evaluations(users, num_sim = 5))\n",
        "print(\"number of similar movies = 3: \", evaluations(users, num_sim = 3))\n",
        "print(\"number of similar movies = 1: \", evaluations(users, num_sim = 1))"
      ],
      "execution_count": null,
      "outputs": [
        {
          "output_type": "stream",
          "text": [
            "Evaluation metric: Precision at 10 \n",
            "Number of user evaluated: 100 \n",
            "\n",
            "\n",
            "Threshold = 4: \n",
            "number of similar movies = 20:  0.4697976190476191\n",
            "number of similar movies = 10:  0.5604603174603174\n",
            "number of similar movies = 5:  0.6313095238095239\n",
            "number of similar movies = 3:  0.639452380952381\n",
            "number of similar movies = 1:  0.5975555555555555\n",
            "\n",
            "\n",
            "Threshold = mean rating of each user: \n",
            "number of similar movies = 20:  0.7614880952380951\n",
            "number of similar movies = 10:  0.8245714285714284\n",
            "number of similar movies = 5:  0.8533095238095236\n",
            "number of similar movies = 3:  0.8656428571428573\n",
            "number of similar movies = 1:  0.8378333333333333\n"
          ],
          "name": "stdout"
        }
      ]
    },
    {
      "cell_type": "markdown",
      "metadata": {
        "id": "NFCW8OhF0kXA"
      },
      "source": [
        "## 3.Recommendation Comparision of Different Model"
      ]
    },
    {
      "cell_type": "markdown",
      "metadata": {
        "id": "cBUmU3fQ1G-t"
      },
      "source": [
        "* Top 10 movies recommend to user 6 by **Surprise SVD Model**"
      ]
    },
    {
      "cell_type": "code",
      "metadata": {
        "id": "8HhfLOiG02OT",
        "colab": {
          "base_uri": "https://localhost:8080/",
          "height": 376
        },
        "outputId": "8f843400-efcd-4328-fca3-aace6300a48e"
      },
      "source": [
        "get_recommend_top_10_movies(6,ratings,movies)"
      ],
      "execution_count": null,
      "outputs": [
        {
          "output_type": "stream",
          "text": [
            "You may like these movies : \n"
          ],
          "name": "stdout"
        },
        {
          "output_type": "execute_result",
          "data": {
            "text/html": [
              "<div>\n",
              "<style scoped>\n",
              "    .dataframe tbody tr th:only-of-type {\n",
              "        vertical-align: middle;\n",
              "    }\n",
              "\n",
              "    .dataframe tbody tr th {\n",
              "        vertical-align: top;\n",
              "    }\n",
              "\n",
              "    .dataframe thead th {\n",
              "        text-align: right;\n",
              "    }\n",
              "</style>\n",
              "<table border=\"1\" class=\"dataframe\">\n",
              "  <thead>\n",
              "    <tr style=\"text-align: right;\">\n",
              "      <th></th>\n",
              "      <th>title</th>\n",
              "      <th>genres</th>\n",
              "    </tr>\n",
              "  </thead>\n",
              "  <tbody>\n",
              "    <tr>\n",
              "      <th>0</th>\n",
              "      <td>Godfather, The (1972)</td>\n",
              "      <td>Crime|Drama</td>\n",
              "    </tr>\n",
              "    <tr>\n",
              "      <th>1</th>\n",
              "      <td>American Beauty (1999)</td>\n",
              "      <td>Comedy|Drama</td>\n",
              "    </tr>\n",
              "    <tr>\n",
              "      <th>2</th>\n",
              "      <td>Forrest Gump (1994)</td>\n",
              "      <td>Comedy|Drama|Romance|War</td>\n",
              "    </tr>\n",
              "    <tr>\n",
              "      <th>3</th>\n",
              "      <td>Princess Bride, The (1987)</td>\n",
              "      <td>Action|Adventure|Comedy|Fantasy|Romance</td>\n",
              "    </tr>\n",
              "    <tr>\n",
              "      <th>4</th>\n",
              "      <td>Brazil (1985)</td>\n",
              "      <td>Fantasy|Sci-Fi</td>\n",
              "    </tr>\n",
              "    <tr>\n",
              "      <th>5</th>\n",
              "      <td>Kill Bill: Vol. 1 (2003)</td>\n",
              "      <td>Action|Crime|Thriller</td>\n",
              "    </tr>\n",
              "    <tr>\n",
              "      <th>6</th>\n",
              "      <td>Pulp Fiction (1994)</td>\n",
              "      <td>Comedy|Crime|Drama|Thriller</td>\n",
              "    </tr>\n",
              "    <tr>\n",
              "      <th>7</th>\n",
              "      <td>Casablanca (1942)</td>\n",
              "      <td>Drama|Romance</td>\n",
              "    </tr>\n",
              "    <tr>\n",
              "      <th>8</th>\n",
              "      <td>Raiders of the Lost Ark (Indiana Jones and the...</td>\n",
              "      <td>Action|Adventure</td>\n",
              "    </tr>\n",
              "    <tr>\n",
              "      <th>9</th>\n",
              "      <td>Royal Tenenbaums, The (2001)</td>\n",
              "      <td>Comedy|Drama</td>\n",
              "    </tr>\n",
              "  </tbody>\n",
              "</table>\n",
              "</div>"
            ],
            "text/plain": [
              "                                               title                                   genres\n",
              "0                              Godfather, The (1972)                              Crime|Drama\n",
              "1                             American Beauty (1999)                             Comedy|Drama\n",
              "2                                Forrest Gump (1994)                 Comedy|Drama|Romance|War\n",
              "3                         Princess Bride, The (1987)  Action|Adventure|Comedy|Fantasy|Romance\n",
              "4                                      Brazil (1985)                           Fantasy|Sci-Fi\n",
              "5                           Kill Bill: Vol. 1 (2003)                    Action|Crime|Thriller\n",
              "6                                Pulp Fiction (1994)              Comedy|Crime|Drama|Thriller\n",
              "7                                  Casablanca (1942)                            Drama|Romance\n",
              "8  Raiders of the Lost Ark (Indiana Jones and the...                         Action|Adventure\n",
              "9                       Royal Tenenbaums, The (2001)                             Comedy|Drama"
            ]
          },
          "metadata": {
            "tags": []
          },
          "execution_count": 32
        }
      ]
    },
    {
      "cell_type": "markdown",
      "metadata": {
        "id": "kwt470i61U9O"
      },
      "source": [
        "* Top 10 movies recommend to user 6 by Surprise **KNNBasic item-based Model**"
      ]
    },
    {
      "cell_type": "code",
      "metadata": {
        "id": "t1vYtztRZbay",
        "outputId": "b04310a4-4c4e-4704-ef02-4529909642f5"
      },
      "source": [
        "getMovieRecommendationsForUser(6,recommendations)"
      ],
      "execution_count": null,
      "outputs": [
        {
          "output_type": "execute_result",
          "data": {
            "text/plain": [
              "[('Tango Lesson, The (1997)', 4.112349346172709),\n",
              " ('White Balloon, The (Badkonake sefid) (1995)', 4.111111111111111),\n",
              " ('Millennium Actress (Sennen joyû) (2001)', 4.06659509636127),\n",
              " ('Fluke (1995)', 4.050705712387137),\n",
              " ('Dangerous Lives of Altar Boys, The (2002)', 4.003000327875838),\n",
              " ('Wrong Man, The (1956)', 4.002676743766904),\n",
              " ('Perez Family, The (1995)', 4.000147789590558),\n",
              " ('Journey of August King, The (1995)', 4.0),\n",
              " ('Hud (1963)', 3.961676668386315),\n",
              " ('Creature Comforts (1989)', 3.9483534834227667)]"
            ]
          },
          "metadata": {
            "tags": []
          },
          "execution_count": 41
        }
      ]
    },
    {
      "cell_type": "markdown",
      "metadata": {
        "id": "2elEng1X1VGY"
      },
      "source": [
        "* Top 10 movies recommend to user 6 by **Item-item Model**\n",
        "\n"
      ]
    },
    {
      "cell_type": "code",
      "metadata": {
        "id": "JU_zLbrG1Equ",
        "outputId": "a6528255-ee2f-41b8-e16e-adde401542bb"
      },
      "source": [
        "user_id = 6\n",
        "m_list = movie_recommend_item_item(user_id)\n",
        "print(\"Recommendation: \\n\", m_list)"
      ],
      "execution_count": null,
      "outputs": [
        {
          "output_type": "stream",
          "text": [
            "Top movies that rated by the user:  [[\"Mr. Holland's Opus (1995)\"], ['Toy Story (1995)'], ['Sense and Sensibility (1995)'], ['Birdcage, The (1996)'], ['Mission: Impossible (1996)'], ['Sabrina (1995)'], ['Mighty Aphrodite (1995)']]\n",
            "Recommendation: \n",
            " [['Independence Day (a.k.a. ID4) (1996)'], ['Rock, The (1996)'], ['Twister (1996)']]\n"
          ],
          "name": "stdout"
        }
      ]
    },
    {
      "cell_type": "markdown",
      "metadata": {
        "id": "su5vALVf1Txu"
      },
      "source": [
        "* Top 10 movies recommend to user 6 by **Content-based Model**"
      ]
    },
    {
      "cell_type": "code",
      "metadata": {
        "id": "oAPUM_ugZNC9",
        "outputId": "b0e47c7b-0d96-476c-8b0d-e7a3f8548c30"
      },
      "source": [
        "recommendation_top10(6)"
      ],
      "execution_count": null,
      "outputs": [
        {
          "output_type": "execute_result",
          "data": {
            "text/plain": [
              "['Sunshine Boys, The (1975)',\n",
              " 'Music of the Heart (1999)',\n",
              " 'Emma (1996)',\n",
              " 'Passenger 57 (1992)',\n",
              " 'Toy Story 2 (1999)',\n",
              " 'Alex and Emma (2003)',\n",
              " 'In & Out (1997)',\n",
              " 'My Left Foot (1989)',\n",
              " 'Enemy of the State (1998)',\n",
              " 'Together (Han ni Zai Yiki) (2002)']"
            ]
          },
          "metadata": {
            "tags": []
          },
          "execution_count": 252
        }
      ]
    },
    {
      "cell_type": "markdown",
      "metadata": {
        "id": "xZQ5LlsA7g-C"
      },
      "source": [
        "* *What is Coverage?  We compared the prediction results made from different models. One of the comparisons is the prediction coverage of different models. The information shows the percent of movies that different models are able to recommend.*"
      ]
    },
    {
      "cell_type": "code",
      "metadata": {
        "id": "ehjXzWPP5wxe"
      },
      "source": [
        "import recmetrics"
      ],
      "execution_count": null,
      "outputs": []
    },
    {
      "cell_type": "code",
      "metadata": {
        "id": "alLvR1p35wxe"
      },
      "source": [
        "def movie_recommend_lst(user_id):\n",
        "    #recommend movies that user hasn't watched\n",
        "    recommended_movies = []\n",
        "    user_top_movie_name = []\n",
        "    watched_movie = items_df[items_df['userId'] == user_id]\n",
        "    top_rated_watched_movie = watched_movie[watched_movie['rating'].isin([5, 4.5])]\n",
        "    top_movie_id_list = top_rated_watched_movie['movieId'].tolist()\n",
        "    for j in top_movie_id_list:\n",
        "        m_name = movies[movies['movieId'] == j]['title'].tolist()\n",
        "        user_top_movie_name.append(m_name)\n",
        "    if not top_movie_id_list:\n",
        "        print(\"User ID is not in the database. \\n\")\n",
        "    similiar_movie_id_list = items_similarity(top_movie_id_list)\n",
        "    if not similiar_movie_id_list:\n",
        "        print(\"Cannot find similar movies based on your history. \\n\")\n",
        "    final_list = prediction(user_id, similiar_movie_id_list)\n",
        "    return final_list"
      ],
      "execution_count": null,
      "outputs": []
    },
    {
      "cell_type": "code",
      "metadata": {
        "id": "Zpbke6pg5wxe"
      },
      "source": [
        "user_id = 44\n",
        "item_item_cf_recs = movie_recommend_lst(user_id)"
      ],
      "execution_count": null,
      "outputs": []
    },
    {
      "cell_type": "code",
      "metadata": {
        "id": "4eULZK005wxe"
      },
      "source": [
        "# imported from remetrics manually \n",
        "def prediction_coverage(predicted, catalog):\n",
        "    predicted_flattened = [p for sublist in predicted for p in sublist]\n",
        "    unique_predictions = len(set(predicted_flattened))\n",
        "    prediction_coverage = round(unique_predictions/(len(catalog)* 1.0)*100,2)\n",
        "    return prediction_coverage"
      ],
      "execution_count": null,
      "outputs": []
    },
    {
      "cell_type": "code",
      "metadata": {
        "scrolled": true,
        "id": "e0LGX1xm5wxe",
        "outputId": "6db6faf1-1746-44f3-97a5-ae3669bd9895"
      },
      "source": [
        "# predicted rating > 4\n",
        "catalog = items_df.movieId.unique().tolist()\n",
        "\n",
        "svd_recs = [[318], [527], [4027], [593], [457], [922], [4226], [2571], [50], [750], [1220], [1263], [3949], [4973], [2858], [2028], [1196], [1282], [5349], [1219], [223], [5782], [2700], [2324], [3396]]\n",
        "content_recs = [[318], [527], [4027], [593], [457], [922], [4226], [2571], [50], [750], [1220], [1263], [3949], [4973], [2858], [2028], [1196], [1282], [5349], [1219], [223], [5782], [2700], [2324], [3396],[1080],[1291],[1196],[260],[1210],[1270],[1240],[1036],[2571],[1197],[5952],[7153],[4306],[6539],[5349],[2959],[3578],[4896],[8368],[1221],[1242],[324],[235],[933],[744],[125],[654],[1243],[1342],\n",
        "                [1332],[533],[2476],[832],[728],[947],[1246],[847],[362],[562],[947],[635],[937],[25],[1258],[457],[935],[82],[957],[742],[255],[2486],[951],[51],[2],[1345],[2143],[3252],[1233],[435],[745],[747],[523],[937],[324],[48],[947],[373],[561],[471],[1742],[2916],[482]]\n",
        "svd_coverage = prediction_coverage(svd_recs, catalog)\n",
        "content_coverage = prediction_coverage(content_recs, catalog)\n",
        "\n",
        "item_item_coverage = prediction_coverage(item_item_cf_recs, catalog)\n",
        "\n",
        "coverage_scores = [cf_coverage,svd_coverage, content_coverage]\n",
        "model_names = ['Item-Item Collaborative Filter', 'SVD', 'Content-based']\n",
        "\n",
        "fig = plt.figure(figsize=(7, 5))\n",
        "recmetrics.coverage_plot(coverage_scores, model_names)"
      ],
      "execution_count": null,
      "outputs": [
        {
          "output_type": "display_data",
          "data": {
            "image/png": "[encoded data removed]",
            "text/plain": [
              "<Figure size 504x360 with 1 Axes>"
            ]
          },
          "metadata": {
            "tags": [],
            "needs_background": "light"
          }
        }
      ]
    },
    {
      "cell_type": "code",
      "metadata": {
        "id": "x96eQ5Ky5wxe"
      },
      "source": [
        "def flatlist(lst):  \n",
        "    for i in lst: \n",
        "        if type(i) == list: \n",
        "            flatlist(i) \n",
        "        else: \n",
        "            output.append(i) "
      ],
      "execution_count": null,
      "outputs": []
    },
    {
      "cell_type": "code",
      "metadata": {
        "id": "gAs3KECg5wxe",
        "outputId": "ae8cf139-0543-4edf-e2be-6c25d4679e20"
      },
      "source": [
        "# Personalization (dissimilarity between algorithms)\n",
        "item_item = [1080,1291,1196,260,1210,1270,1240,1036,2571,1197,5952,7153,4306,6539,5349,2959,3578,4896,8368,1221]\n",
        "svd = [318, 527, 4027, 593, 457, 922, 4226, 2571, 50, 750, 1220, 1263, 3949, 4973, 2858, 2028, 1196, 1282, 5349, 1219, 223, 5782, 2700, 2324, 3396]\n",
        "output = []\n",
        "flatlist(content_recs)\n",
        "content = output\n",
        "\n",
        "total_predictions = [item_item,svd,content]\n",
        "recmetrics.personalization(predicted=total_predictions)"
      ],
      "execution_count": null,
      "outputs": [
        {
          "output_type": "execute_result",
          "data": {
            "text/plain": [
              "0.6205971727356183"
            ]
          },
          "metadata": {
            "tags": []
          },
          "execution_count": 144
        }
      ]
    },
    {
      "cell_type": "markdown",
      "metadata": {
        "id": "FcuGzExhp3_M"
      },
      "source": [
        "# **Hybrid Recommender System**\n"
      ]
    },
    {
      "cell_type": "markdown",
      "metadata": {
        "id": "j1jiV2Iqs6aS"
      },
      "source": [
        "### Mixed - Simply combine two "
      ]
    },
    {
      "cell_type": "code",
      "metadata": {
        "id": "zRSTdaSMqCef"
      },
      "source": [
        "def mixed_hybrid_recommender(userID):\n",
        "  print(\"Based on your watching history, we recommend you these movies : \")\n",
        "  get_recommend_top_10_movies(userID,ratings,movies)\n",
        "  print(\"Based on your favorite movie genre, you may like these movies : \")\n",
        "  recommendation_top10(userID)"
      ],
      "execution_count": null,
      "outputs": []
    },
    {
      "cell_type": "code",
      "metadata": {
        "id": "k1puIM5V6jpY"
      },
      "source": [
        "mixed_hybrid_recommender(6)"
      ],
      "execution_count": null,
      "outputs": []
    }
  ]
}